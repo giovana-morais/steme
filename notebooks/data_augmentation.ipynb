{
 "cells": [
  {
   "cell_type": "code",
   "execution_count": null,
   "id": "f98a9c54",
   "metadata": {},
   "outputs": [],
   "source": [
    "import os\n",
    "import random\n",
    "from typing import List, Dict, Tuple\n",
    "\n",
    "import librosa\n",
    "import matplotlib.pyplot as plt\n",
    "import matplotlib.ticker as ticker\n",
    "import numpy as np\n",
    "import pyrubberband as pyrb\n",
    "import soundfile as sf\n",
    "from scipy.stats import lognorm, uniform\n",
    "\n",
    "import steme.audio as audio\n",
    "import steme.dataset as dataset\n",
    "import steme.utils as utils"
   ]
  },
  {
   "cell_type": "code",
   "execution_count": null,
   "id": "f438a30c",
   "metadata": {},
   "outputs": [],
   "source": [
    "import IPython.display as ipd"
   ]
  },
  {
   "cell_type": "code",
   "execution_count": null,
   "id": "394d2bb8",
   "metadata": {},
   "outputs": [],
   "source": [
    "DATASET_PATH = \"/home/gigibs/Documents/datasets/gtzan_augmented_log\""
   ]
  },
  {
   "cell_type": "code",
   "execution_count": null,
   "id": "f82ee15e",
   "metadata": {},
   "outputs": [],
   "source": [
    "gtzan, tracks, tempi = dataset.gtzan_data()\n",
    "giant_steps, gs_tracks, gs_tempi = dataset.giant_steps_data()\n",
    "ballroom, b_tracks, b_tempi = dataset.ballroom_data()\n",
    "\n",
    "dist_low = dataset.lognormal70()\n",
    "\n",
    "theta = dataset.variables_non_linear(25, 40, 190)\n",
    "log_bins = theta[(theta > 30) & (theta < 370)][::2]\n",
    "# linear_bins = np.arange(30, 350, 10)"
   ]
  },
  {
   "cell_type": "code",
   "execution_count": null,
   "id": "ef7c95c2",
   "metadata": {},
   "outputs": [],
   "source": [
    "bins = log_bins"
   ]
  },
  {
   "cell_type": "code",
   "execution_count": null,
   "id": "c4792c3c",
   "metadata": {},
   "outputs": [],
   "source": [
    "print(f\"gtzan size: {len(tracks)}\")\n",
    "print(f\"giant_steps size: {len(gs_tracks)}\")\n",
    "print(f\"ballroom size: {len(b_tracks)}\")\n",
    "print(f\"lognorm @ 70 size: {len(dist_low)}\")"
   ]
  },
  {
   "cell_type": "code",
   "execution_count": null,
   "id": "c8a7b91d",
   "metadata": {},
   "outputs": [],
   "source": [
    "fig, ax = plt.subplots(1,3, figsize=(10,5))\n",
    "\n",
    "ax[0].hist(tempi, bins=bins,  color=\"orange\", alpha=0.7, label=\"gtzan\")\n",
    "ax[0].title.set_text(\"GTZAN (999 tracks)\")\n",
    "ax[0].set_xlabel(\"BPM\")\n",
    "ax[0].set_ylabel(\"# tracks\")\n",
    "ax[1].hist(gs_tempi, bins=bins, color=\"red\", alpha=0.7, label=\"giant_steps\")\n",
    "ax[1].title.set_text(\"Giant Steps (659 tracks)\")\n",
    "ax[1].set_xlabel(\"BPM\")\n",
    "ax[1].set_ylabel(\"# tracks\")\n",
    "ax[2].hist(b_tempi, bins=bins, color=\"blue\", alpha=0.7, label=\"ballroom\")\n",
    "ax[2].title.set_text(\"Ballroom (698 tracks)\")\n",
    "ax[2].set_xlabel(\"BPM\")\n",
    "ax[2].set_ylabel(\"# tracks\")\n",
    "\n",
    "#ax.hist(dist_low, bins=bins,  color=\"green\", alpha=0.7, label=\"lognorm @ 70\")\n",
    "\n",
    "plt.tight_layout()\n",
    "# plt.savefig(\"datasets_tempo_distribution.svg\")"
   ]
  },
  {
   "cell_type": "markdown",
   "id": "770ce0dc",
   "metadata": {},
   "source": [
    "## Augmenting GTZAN"
   ]
  },
  {
   "cell_type": "markdown",
   "id": "5144bdb6",
   "metadata": {},
   "source": [
    "# Approach 1: time streching only GTZAN"
   ]
  },
  {
   "cell_type": "code",
   "execution_count": null,
   "id": "6d9bb79c",
   "metadata": {},
   "outputs": [],
   "source": [
    "finer_bins = log_bins[::2]"
   ]
  },
  {
   "cell_type": "code",
   "execution_count": null,
   "id": "a0394063",
   "metadata": {},
   "outputs": [],
   "source": [
    "plt.hist([tempi, dist_low], bins=finer_bins, color=[\"red\", \"orange\"], label=[\"gtzan\", \"lognorm@70\"])\n",
    "plt.legend()"
   ]
  },
  {
   "cell_type": "code",
   "execution_count": null,
   "id": "a901884a",
   "metadata": {},
   "outputs": [],
   "source": [
    "dist_low_hist = np.histogram(dist_low, bins=finer_bins)\n",
    "gtzan_dist = np.histogram(tempi, bins=finer_bins)"
   ]
  },
  {
   "cell_type": "code",
   "execution_count": null,
   "id": "f71cd59e",
   "metadata": {},
   "outputs": [],
   "source": [
    "diff_tempi = dist_low_hist[0] - gtzan_dist[0]"
   ]
  },
  {
   "cell_type": "code",
   "execution_count": null,
   "id": "b58800b5",
   "metadata": {},
   "outputs": [],
   "source": [
    "fig, ax = plt.subplots(2,1)\n",
    "ax[0].hist([tempi, dist_low], finer_bins, alpha=0.7, label=[\"gtzan\", \"lognorm@70\"], color=[\"red\", \"orange\"], \n",
    "         stacked=False)\n",
    "ax[0].legend()\n",
    "#plt.hist(dist_low, finer_bins, alpha=0.7, label=\"lognorm@70\", color=\"orange\")\n",
    "ax[1].bar(finer_bins[1:], diff_tempi, 2.5, alpha=0.5, label=\"diff\", color=\"blue\")\n",
    "\n",
    "ax[1].legend()"
   ]
  },
  {
   "cell_type": "code",
   "execution_count": null,
   "id": "d8e6e9a5",
   "metadata": {},
   "outputs": [],
   "source": [
    "# gtzan_info = {bin: qtd de faixas no bin}\n",
    "# transformation_dict = {bin: transformação}\n",
    "# se transformation_dict[bin] <= 0 e gtzan_info >= 0, faz a transformação pra faixa necessária\n",
    "# se transformation_dict[bin] >= 0 e gtzan_info >= 0, pula pro próximo bin"
   ]
  },
  {
   "cell_type": "code",
   "execution_count": null,
   "id": "a19ae8c9",
   "metadata": {},
   "outputs": [],
   "source": [
    "def create_transformation_dict(verbose=True):\n",
    "    removals = 0\n",
    "    additions = 0\n",
    "\n",
    "    transformation_dict = {}\n",
    "\n",
    "    for idx, value in enumerate(diff_tempi):    \n",
    "        transformation_dict[f\"{finer_bins[idx]}, {finer_bins[idx+1]}\"] = value\n",
    "\n",
    "        if value < 0:\n",
    "            message = f\"remove {value} samples\"\n",
    "            removals += np.abs(value)\n",
    "        elif value > 0:\n",
    "            message = f\"add {value} samples\"\n",
    "            additions += value\n",
    "        else:\n",
    "            message = \"do nothing\"\n",
    "            \n",
    "        if verbose:\n",
    "            print(f\"{finer_bins[idx]} - {finer_bins[idx+1]}: {message}\")\n",
    "        \n",
    "    if verbose:\n",
    "        print(f\"total removals = {removals}, total additions = {additions}\")\n",
    "    return transformation_dict\n",
    "\n",
    "def reset_transformation_dict():\n",
    "    return create_transformation_dict(verbose=False)"
   ]
  },
  {
   "cell_type": "code",
   "execution_count": null,
   "id": "36e2f469",
   "metadata": {},
   "outputs": [],
   "source": [
    "def create_helper_dict(bins):\n",
    "    # criar um dicionário com intervalo: {track_ids}\n",
    "    # [30,40]: [\"classical.0000\", \"blues.0010\"]\n",
    "    helper_dict = {}\n",
    "    for idx in range(len(bins)-1):\n",
    "        helper_dict[f\"{bins[idx]}, {bins[idx+1]}\"] = []\n",
    "    return helper_dict"
   ]
  },
  {
   "cell_type": "code",
   "execution_count": null,
   "id": "255a09d0",
   "metadata": {},
   "outputs": [],
   "source": [
    "helper_dict = create_helper_dict(finer_bins)\n",
    "gtzan_mapping = {}\n",
    "\n",
    "for i in tracks:\n",
    "    tempo = gtzan.track(i).tempo\n",
    "    \n",
    "    boundaries = np.digitize(tempo, finer_bins)\n",
    "    gtzan_mapping[i] = (tempo, f\"{finer_bins[boundaries-1]}, {finer_bins[boundaries]}\")\n",
    "    helper_dict[f\"{finer_bins[boundaries-1]}, {finer_bins[boundaries]}\"].append(i)"
   ]
  },
  {
   "cell_type": "code",
   "execution_count": null,
   "id": "94fb3a86",
   "metadata": {},
   "outputs": [],
   "source": [
    "def check_missing_tracks(transformation_dict):\n",
    "    for k, v in list(transformation_dict.items())[::-1]:\n",
    "#     for k, v in transformation_dict.items():\n",
    "        if v > 0:\n",
    "            return k, v"
   ]
  },
  {
   "cell_type": "code",
   "execution_count": null,
   "id": "01c9b10f",
   "metadata": {},
   "outputs": [],
   "source": [
    "def key_boundaries(key):\n",
    "    return [float(i) for i in key.split(\", \")]"
   ]
  },
  {
   "cell_type": "code",
   "execution_count": null,
   "id": "f70f1654",
   "metadata": {},
   "outputs": [],
   "source": [
    "transformation_dict = reset_transformation_dict()\n",
    "augmented_dict = transformation_dict.copy()"
   ]
  },
  {
   "cell_type": "code",
   "execution_count": null,
   "id": "62a9ffbb",
   "metadata": {},
   "outputs": [],
   "source": [
    "to_remove = []\n",
    "j = 0\n",
    "for key, val in list(transformation_dict.items())[::-1]:\n",
    "# for key, val in transformation_dict.items():\n",
    "    if val < 0:\n",
    "        print(f\"augmenting tracks from {key}\")\n",
    "        for track_id in helper_dict[key]:\n",
    "            print(track_id)\n",
    "            original_tempo = gtzan.track(track_id).tempo\n",
    "            original_boundaries = gtzan_mapping[track_id][1]\n",
    "\n",
    "            str_boundaries = check_missing_tracks(transformation_dict)\n",
    "\n",
    "            if str_boundaries is None:\n",
    "    #             print(transformation_dict)\n",
    "                # we're done then!\n",
    "                break \n",
    "\n",
    "            new_tempo_boundaries = key_boundaries(str_boundaries[0])\n",
    "            \n",
    "            if key == str_boundaries[0]:\n",
    "                print(f\"we will not transform {key} into {str_boundaries[0]}\")\n",
    "#                 transformation_dict[str_boundaries[0]] -= 1\n",
    "                break\n",
    "            \n",
    "            new_tempo = random.uniform(float(new_tempo_boundaries[0]), float(new_tempo_boundaries[1]))\n",
    "\n",
    "#             print(f\"transforming tracks from {key} to {new_tempo_boundaries}\")\n",
    "\n",
    "            tempo_rate = new_tempo/original_tempo\n",
    "\n",
    "            x, fs = gtzan.track(track_id).audio\n",
    "            to_remove.append(track_id)\n",
    "\n",
    "#             print(f\"original_tempo {original_tempo}, new_tempo {new_tempo}, tempo_rate {tempo_rate}\")\n",
    "\n",
    "            # pyrubberband parameters\n",
    "            rbags = {\"-2\": \"\"} # choose finer algorithms to have a better quali\n",
    "            x_stretch = pyrb.time_stretch(x, fs, tempo_rate)\n",
    "\n",
    "    #         print(f\"augmented one track from {original_boundaries} to {str_boundaries[0]}\")\n",
    "            transformation_dict[str_boundaries[0]] -= 1\n",
    "            transformation_dict[original_boundaries] += 1\n",
    "            augmented_dict[str_boundaries[0]] -= 1\n",
    "            augmented_dict[original_boundaries] += 1\n",
    "            \n",
    "            # save audio\n",
    "            sf.write(os.path.join(DATASET_PATH, f\"audio/{track_id}_augmented.wav\"), x_stretch, fs, subtype=\"PCM_24\")\n",
    "            # save tempo        \n",
    "            with open(os.path.join(DATASET_PATH, f\"annotations/tempo/{track_id}_augmented.bpm\"), \"w\") as f:\n",
    "                f.write(str(new_tempo))"
   ]
  },
  {
   "cell_type": "code",
   "execution_count": null,
   "id": "420ece0e",
   "metadata": {},
   "outputs": [],
   "source": [
    "for track_id in to_remove:\n",
    "    try:\n",
    "#         print(f\"removing {track_id}\")\n",
    "        os.remove(os.path.join(DATASET_PATH, f\"audio/{track_id}.wav\"))\n",
    "        os.remove(os.path.join(DATASET_PATH, f\"annotations/tempo/{track_id}.bpm\"))\n",
    "    except:\n",
    "#         print(\"already removed\")\n",
    "        continue"
   ]
  },
  {
   "cell_type": "code",
   "execution_count": null,
   "id": "fe1a28e5",
   "metadata": {},
   "outputs": [],
   "source": [
    "import steme.loader as loader"
   ]
  },
  {
   "cell_type": "code",
   "execution_count": null,
   "id": "8a23a2b3",
   "metadata": {},
   "outputs": [],
   "source": [
    "gtzan_augmented = loader.custom_dataset_loader(\n",
    "    path=DATASET_PATH,\n",
    "    dataset_name=\"\",\n",
    "    folder=\"\",\n",
    ")"
   ]
  },
  {
   "cell_type": "code",
   "execution_count": null,
   "id": "dbd1dc04",
   "metadata": {},
   "outputs": [],
   "source": [
    "gtzan_augmented_tracks = gtzan_augmented.track_ids\n",
    "gtzan_augmented_tracks.remove(\"reggae.00086\")\n",
    "gtzan_augmented_tempi = [gtzan_augmented.track(track_id).tempo for track_id in gtzan_augmented_tracks]"
   ]
  },
  {
   "cell_type": "code",
   "execution_count": null,
   "id": "7aad6314",
   "metadata": {},
   "outputs": [],
   "source": [
    "plt.hist(gtzan_augmented_tempi, bins=finer_bins, color=\"red\", label=\"gtzan_augmented\")\n",
    "plt.legend()"
   ]
  },
  {
   "cell_type": "code",
   "execution_count": null,
   "id": "07fa94ec",
   "metadata": {},
   "outputs": [],
   "source": [
    "plt.hist(\n",
    "    [gtzan_augmented_tempi, dist_low], \n",
    "    bins=np.arange(30,200,10), \n",
    "    color=[\"blue\", \"orange\"], \n",
    "    label=[\"gtzan_augmented\", \"lognorm@70\"]\n",
    ")\n",
    "plt.legend()"
   ]
  },
  {
   "cell_type": "code",
   "execution_count": null,
   "id": "5fdefebc",
   "metadata": {},
   "outputs": [],
   "source": [
    "len(gtzan_augmented_tracks)"
   ]
  },
  {
   "cell_type": "markdown",
   "id": "8f2dff3a",
   "metadata": {},
   "source": [
    "# Quality comparison"
   ]
  },
  {
   "cell_type": "code",
   "execution_count": null,
   "id": "6ca608b6",
   "metadata": {},
   "outputs": [],
   "source": [
    "# load original track\n",
    "orig_x, orig_fs = gtzan.track(\"blues.00002\").audio"
   ]
  },
  {
   "cell_type": "code",
   "execution_count": null,
   "id": "21078c71",
   "metadata": {},
   "outputs": [],
   "source": [
    "ipd.Audio(orig_x, rate=orig_fs)"
   ]
  },
  {
   "cell_type": "code",
   "execution_count": null,
   "id": "7987dc41",
   "metadata": {},
   "outputs": [],
   "source": [
    "aug_x, aug_fs = gtzan_augmented.track(\"blues.00002_augmented\").audio"
   ]
  },
  {
   "cell_type": "code",
   "execution_count": null,
   "id": "bfc29848",
   "metadata": {},
   "outputs": [],
   "source": [
    "ipd.Audio(aug_x, rate=aug_fs)"
   ]
  },
  {
   "cell_type": "code",
   "execution_count": null,
   "id": "d7925f55",
   "metadata": {},
   "outputs": [],
   "source": [
    "orig_nov, _ = audio.spectral_flux(orig_x, orig_fs, n_fft=2048, hop_length=512)\n",
    "orig_frame_time = librosa.frames_to_time(np.arange(len(orig_nov)),\n",
    "                                    sr=orig_fs,\n",
    "                                    hop_length=512)\n",
    "\n",
    "aug_nov, _ = audio.spectral_flux(aug_x[:30*aug_fs], aug_fs, n_fft=2048, hop_length=512)\n",
    "aug_frame_time = librosa.frames_to_time(np.arange(len(aug_nov)),\n",
    "                                    sr=aug_fs,\n",
    "                                    hop_length=512)"
   ]
  },
  {
   "cell_type": "code",
   "execution_count": null,
   "id": "c9f6ebbc",
   "metadata": {},
   "outputs": [],
   "source": [
    "plt.plot(orig_frame_time, orig_nov, color=\"red\", label=\"original audio\")\n",
    "plt.plot(aug_frame_time, aug_nov, color=\"blue\", label=\"augmented audio\")\n",
    "plt.legend()"
   ]
  },
  {
   "cell_type": "code",
   "execution_count": null,
   "id": "f641328c",
   "metadata": {},
   "outputs": [],
   "source": [
    "linear_theta = np.arange(30,350,1)"
   ]
  },
  {
   "cell_type": "code",
   "execution_count": null,
   "id": "0b01c043",
   "metadata": {},
   "outputs": [],
   "source": [
    "orig_T, orig_fT, orig_times = audio.tempogram(orig_x, orig_fs, 10, \"fourier\", linear_theta)\n",
    "aug_T, aug_fT, aug_times = audio.tempogram(aug_x, aug_fs, 10, \"fourier\", linear_theta)"
   ]
  },
  {
   "cell_type": "code",
   "execution_count": null,
   "id": "796dc79c",
   "metadata": {},
   "outputs": [],
   "source": [
    "def plot_comparison(T, t, freqs, ttypes, subplot_titles, fig_title=None):\n",
    "    \"\"\"\n",
    "    helper function to plot tempograms side-by-side.\n",
    "    \"\"\"\n",
    "    figsize = (15, 5)\n",
    "    num_tempograms = len(T)\n",
    "    fig, ax = plt.subplots(1, num_tempograms, figsize=figsize)\n",
    "\n",
    "    for idx in range(num_tempograms):\n",
    "        kwargs = utils._tempogram_kwargs(t[idx], freqs[idx])\n",
    "\n",
    "        ax[idx].imshow(T[idx], **kwargs)\n",
    "\n",
    "        xlim = (t[idx][0], t[idx][-1])\n",
    "        ylim = (freqs[idx][0], freqs[idx][-1])\n",
    "\n",
    "        #plt.setp(ax, xlim=xlim, ylim=ylim)\n",
    "        \n",
    "        if ttypes[idx] == \"log\":\n",
    "            labels = [item.get_text() for item in ax[0].get_yticklabels()]\n",
    "            new_labels = np.rint(log_axis[::20]).astype(int)\n",
    "            ax[idx].set_yticklabels(new_labels)\n",
    "\n",
    "        if fig_title is not None:\n",
    "            fig.suptitle(fig_title, fontsize=16)\n",
    "\n",
    "        ax[idx].set_xlabel(\"Time (s)\")\n",
    "        ax[idx].set_ylabel(\"Tempo (BPM)\")\n",
    "        ax[idx].title.set_text(subplot_titles[idx])\n",
    "    return fig, ax"
   ]
  },
  {
   "cell_type": "code",
   "execution_count": null,
   "id": "0177054b",
   "metadata": {},
   "outputs": [],
   "source": [
    "plot_comparison([orig_T, aug_T], [orig_fT, aug_fT], [orig_times, aug_times], subplot_titles=[f\"orig {orig_bpm}\", f\"aug {aug_bpm}\"], ttypes=\"linear\")"
   ]
  },
  {
   "cell_type": "code",
   "execution_count": null,
   "id": "89d90d83",
   "metadata": {},
   "outputs": [],
   "source": [
    "orig_bpm = gtzan.track(\"blues.00002\").tempo\n",
    "#utils.plot_tempogram(orig_T, orig_fT, orig_times, title=f\"Original audio ({orig_bpm} BPM))\")"
   ]
  },
  {
   "cell_type": "code",
   "execution_count": null,
   "id": "72019405",
   "metadata": {},
   "outputs": [],
   "source": [
    "aug_bpm = gtzan_augmented.track(\"blues.00002_augmented\").tempo\n",
    "utils.plot_tempogram(aug_T, aug_fT, aug_times, title=f\"Augmented ({aug_bpm} BPM)\")"
   ]
  },
  {
   "cell_type": "markdown",
   "id": "2d1a68b6",
   "metadata": {},
   "source": [
    "## Approach 2: Augmentation in the tempogram domain"
   ]
  },
  {
   "cell_type": "code",
   "execution_count": null,
   "id": "cfc3fe46",
   "metadata": {},
   "outputs": [],
   "source": [
    "# first looking at the linear scenario"
   ]
  },
  {
   "cell_type": "code",
   "execution_count": null,
   "id": "6537e17d",
   "metadata": {},
   "outputs": [],
   "source": [
    "orig_T, orig_fT, orig_times = audio.tempogram(orig_x, orig_fs, 10, \"fourier\", linear_theta)"
   ]
  },
  {
   "cell_type": "code",
   "execution_count": null,
   "id": "7273000b",
   "metadata": {},
   "outputs": [],
   "source": [
    "#utils.plot_tempogram(orig_T, orig_fT, orig_times, title=\"Original audio\")"
   ]
  },
  {
   "cell_type": "code",
   "execution_count": null,
   "id": "d9299c79",
   "metadata": {},
   "outputs": [],
   "source": [
    "larger_orig_T, larger_orig_fT, larger_orig_times = audio.tempogram(orig_x, orig_fs, 10, \"fourier\", np.arange(30, 670))"
   ]
  },
  {
   "cell_type": "code",
   "execution_count": null,
   "id": "7c5193b0",
   "metadata": {},
   "outputs": [],
   "source": [
    "#utils.plot_tempogram(larger_orig_T, larger_orig_fT, larger_orig_times, title=\"Original audio\")"
   ]
  },
  {
   "cell_type": "code",
   "execution_count": null,
   "id": "494a1e58",
   "metadata": {},
   "outputs": [],
   "source": [
    "aug_T.shape, larger_orig_T.shape"
   ]
  },
  {
   "cell_type": "code",
   "execution_count": null,
   "id": "73ce870e",
   "metadata": {},
   "outputs": [],
   "source": [
    "larger_orig_T.shape[1]"
   ]
  },
  {
   "cell_type": "code",
   "execution_count": null,
   "id": "4f5b7164",
   "metadata": {},
   "outputs": [],
   "source": [
    "raw_aug = np.zeros(orig_T.shape)\n",
    "## dumb way of doing it\n",
    "# average every 2 lines, copy the result to the new array\n",
    "large_idx = 0\n",
    "idx = 0\n",
    "while idx < 320:\n",
    "    # we have to use +2 because np slicing is [start, end), instead of [start, end]\n",
    "    avg_lines = np.mean(larger_orig_T[large_idx:large_idx+2, :], axis=0)\n",
    "    \n",
    "    raw_aug[idx,:] = avg_lines\n",
    "    \n",
    "    idx += 1\n",
    "    large_idx += 2\n",
    "    "
   ]
  },
  {
   "cell_type": "code",
   "execution_count": null,
   "id": "182229c6",
   "metadata": {},
   "outputs": [],
   "source": [
    "larger_orig_T[::2, :].shape"
   ]
  },
  {
   "cell_type": "code",
   "execution_count": null,
   "id": "09cc8e41",
   "metadata": {},
   "outputs": [],
   "source": [
    "raw_aug = larger_orig_T[::2, :].copy()"
   ]
  },
  {
   "cell_type": "code",
   "execution_count": null,
   "id": "85e32c3b",
   "metadata": {},
   "outputs": [],
   "source": [
    "plot_comparison([raw_aug, aug_T], [orig_fT, aug_fT], [orig_times, aug_times], subplot_titles=[\"tempogram_aug\", \"audio_aug\"], ttypes=\"linear\")"
   ]
  },
  {
   "cell_type": "code",
   "execution_count": null,
   "id": "7d961df7",
   "metadata": {},
   "outputs": [],
   "source": [
    "utils.plot_tempogram(aug_T, aug_fT, aug_times, title=f\"Augmented ({aug_bpm} BPM)\")"
   ]
  },
  {
   "cell_type": "code",
   "execution_count": null,
   "id": "ef990a0d",
   "metadata": {
    "scrolled": true
   },
   "outputs": [],
   "source": [
    "utils.plot_tempogram(orig_T, orig_fT, orig_times, title=f\"Original audio ({orig_bpm} BPM)\")"
   ]
  },
  {
   "cell_type": "code",
   "execution_count": null,
   "id": "b12eed61",
   "metadata": {},
   "outputs": [],
   "source": [
    "idx = 0\n",
    "tmp = np.mean(larger_orig_T[idx:idx+2, :], axis=0)"
   ]
  },
  {
   "cell_type": "code",
   "execution_count": null,
   "id": "b5bc5e6a",
   "metadata": {},
   "outputs": [],
   "source": [
    "tmp.shape"
   ]
  },
  {
   "cell_type": "code",
   "execution_count": null,
   "id": "d1e5f1ab",
   "metadata": {},
   "outputs": [],
   "source": [
    "tempi_array = np.asarray(tempi)"
   ]
  },
  {
   "cell_type": "code",
   "execution_count": null,
   "id": "753b59d5",
   "metadata": {},
   "outputs": [],
   "source": [
    "plt.hist(tempi_array, bins=50)"
   ]
  },
  {
   "cell_type": "code",
   "execution_count": null,
   "id": "eef9d4cb",
   "metadata": {},
   "outputs": [],
   "source": [
    "plt.hist(\n",
    "    [np.append(tempi_array,tempi_array/2), dist_low], \n",
    "    bins=50, \n",
    "    color=[\"red\", \"orange\"], \n",
    "    label=[\"gtzan + gtzan/2\", \"lognorm@70\"]\n",
    ")\n",
    "plt.legend()"
   ]
  },
  {
   "cell_type": "code",
   "execution_count": null,
   "id": "ccace1d5",
   "metadata": {},
   "outputs": [],
   "source": [
    "np.append(tempi_array,tempi_array/2)"
   ]
  }
 ],
 "metadata": {
  "kernelspec": {
   "display_name": "Python 3 (ipykernel)",
   "language": "python",
   "name": "python3"
  },
  "language_info": {
   "codemirror_mode": {
    "name": "ipython",
    "version": 3
   },
   "file_extension": ".py",
   "mimetype": "text/x-python",
   "name": "python",
   "nbconvert_exporter": "python",
   "pygments_lexer": "ipython3",
   "version": "3.10.6"
  }
 },
 "nbformat": 4,
 "nbformat_minor": 5
}
