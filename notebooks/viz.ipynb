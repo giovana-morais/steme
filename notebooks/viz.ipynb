{
 "cells": [
  {
   "cell_type": "code",
   "execution_count": null,
   "metadata": {},
   "outputs": [],
   "source": [
    "#collapse-show\n",
    "from IPython import display\n",
    "audio_path = \"../../datasets/ballroom/audio/ChaChaCha/Albums-Cafe_Paradiso-05.wav\"\n",
    "display.Audio(filename=audio_path)"
   ]
  },
  {
   "cell_type": "markdown",
   "metadata": {},
   "source": [
    "## All the code in one place"
   ]
  },
  {
   "cell_type": "code",
   "execution_count": null,
   "metadata": {},
   "outputs": [],
   "source": [
    "#collapse_hide \n",
    "from scipy.signal import spectrogram\n",
    "import holoviews as hv \n",
    "import panel as pn\n",
    "import numpy as np\n",
    "from scipy.io import wavfile\n",
    "import matplotlib.pyplot as plt\n",
    "hv.extension(\"bokeh\", logo=False)\n",
    "\n",
    "sr, wav_data = wavfile.read(audio_path)\n",
    "audio_data = wav_data # first channel\n",
    "f, t, sxx = spectrogram(audio_data, sr)\n",
    "spec_gram = hv.Image((t, f, np.log10(sxx)), [\"Time (s)\", \"Frequency (hz)\"]).opts(width=600)\n",
    "audio = pn.pane.Audio(wav_data, sample_rate=sr, name='Audio', throttle=500)\n",
    "\n",
    "def update_playhead(x,y,t):\n",
    "    if x is None:\n",
    "        return hv.VLine(t)\n",
    "    else:\n",
    "        audio.time = x\n",
    "        return hv.VLine(x)\n",
    "\n",
    "tap_stream = hv.streams.SingleTap(transient=True)\n",
    "time_play_stream = hv.streams.Params(parameters=[audio.param.time], rename={'time': 't'})\n",
    "dmap_time = hv.DynamicMap(update_playhead, streams=[time_play_stream, tap_stream])\n",
    "out = pn.Column( audio, \n",
    "               (spec_gram * dmap_time))"
   ]
  },
  {
   "cell_type": "code",
   "execution_count": null,
   "metadata": {},
   "outputs": [],
   "source": [
    "#hide\n",
    "out"
   ]
  },
  {
   "cell_type": "code",
   "execution_count": null,
   "metadata": {},
   "outputs": [],
   "source": []
  }
 ],
 "metadata": {
  "kernelspec": {
   "display_name": "Python 3 (ipykernel)",
   "language": "python",
   "name": "python3"
  },
  "language_info": {
   "codemirror_mode": {
    "name": "ipython",
    "version": 3
   },
   "file_extension": ".py",
   "mimetype": "text/x-python",
   "name": "python",
   "nbconvert_exporter": "python",
   "pygments_lexer": "ipython3",
   "version": "3.10.6"
  }
 },
 "nbformat": 4,
 "nbformat_minor": 2
}
