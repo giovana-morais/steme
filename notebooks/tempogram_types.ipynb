{
 "cells": [
  {
   "cell_type": "code",
   "execution_count": null,
   "id": "d156313a",
   "metadata": {},
   "outputs": [],
   "source": [
    "import librosa \n",
    "import numpy as np\n",
    "import matplotlib.pyplot as plt\n",
    "\n",
    "import steme as st\n",
    "\n",
    "import IPython.display as ipd"
   ]
  },
  {
   "cell_type": "code",
   "execution_count": null,
   "id": "37c72f1d",
   "metadata": {},
   "outputs": [],
   "source": [
    "librosa.util.list_examples()"
   ]
  },
  {
   "cell_type": "code",
   "execution_count": null,
   "id": "dccc3a8b",
   "metadata": {},
   "outputs": [],
   "source": [
    "# x, fs = librosa.load(librosa.example(\"brahms\"))\n",
    "# you can explore further examples if you want to:\n",
    "x, fs = librosa.load(librosa.example(\"choice\"))"
   ]
  },
  {
   "cell_type": "code",
   "execution_count": null,
   "id": "b2e1caf1",
   "metadata": {},
   "outputs": [],
   "source": [
    "ipd.Audio(x, rate=fs)"
   ]
  },
  {
   "cell_type": "markdown",
   "id": "409ff09d",
   "metadata": {},
   "source": [
    "# linear axis versus log axis"
   ]
  },
  {
   "cell_type": "code",
   "execution_count": null,
   "id": "afb1b77b",
   "metadata": {},
   "outputs": [],
   "source": [
    "linear_axis = np.arange(30,350,1)\n",
    "log_axis = st.dataset.variables_non_linear()\n",
    "log_axis = log_axis[log_axis < 350]"
   ]
  },
  {
   "cell_type": "code",
   "execution_count": null,
   "id": "6d462512",
   "metadata": {},
   "outputs": [],
   "source": [
    "def plot_comparison(T, t, freqs, ttypes, subplot_titles, fig_title=None):\n",
    "    \"\"\"\n",
    "    helper function to plot tempograms side-by-side.\n",
    "    \"\"\"\n",
    "    figsize = (15, 5)\n",
    "    num_tempograms = len(T)\n",
    "    fig, ax = plt.subplots(1, num_tempograms, figsize=figsize)\n",
    "\n",
    "    for idx in range(num_tempograms):\n",
    "        kwargs = st.utils._tempogram_kwargs(t[idx], freqs[idx])\n",
    "\n",
    "        ax[idx].imshow(T[idx], **kwargs)\n",
    "\n",
    "        xlim = (t[idx][0], t[idx][-1])\n",
    "        ylim = (freqs[idx][0], freqs[idx][-1])\n",
    "\n",
    "        plt.setp(ax, xlim=xlim, ylim=ylim)\n",
    "        \n",
    "        if ttypes[idx] == \"log\":\n",
    "            labels = [item.get_text() for item in ax[0].get_yticklabels()]\n",
    "            new_labels = np.rint(log_axis[::20]).astype(int)\n",
    "            ax[idx].set_yticklabels(new_labels)\n",
    "\n",
    "        if fig_title is not None:\n",
    "            fig.suptitle(fig_title, fontsize=16)\n",
    "\n",
    "        ax[idx].set_xlabel(\"Time (s)\")\n",
    "        ax[idx].set_ylabel(\"Tempo (BPM)\")\n",
    "        ax[idx].title.set_text(subplot_titles[idx])\n",
    "    return fig, ax"
   ]
  },
  {
   "cell_type": "markdown",
   "id": "5f36d1b4",
   "metadata": {},
   "source": [
    "# tmp"
   ]
  },
  {
   "cell_type": "code",
   "execution_count": null,
   "id": "1eed8093",
   "metadata": {},
   "outputs": [],
   "source": [
    "figsize = (15, 5)\n",
    "fig, ax = plt.subplots(1, 1, figsize=figsize)\n",
    "\n",
    "tempo_estimation = librosa.feature.tempo(y=x, sr=fs)\n",
    "\n",
    "kwargs = st.utils._tempogram_kwargs(linear_ft, linear_ffreqs)\n",
    "ax.imshow(linear_fT, **kwargs)\n",
    "ax.hlines(tempo_estimation[0], xmin=0, xmax=1000, color=\"red\", label=\"estimated time\")\n",
    "\n",
    "xlim = (linear_ft[0], linear_ft[-1])\n",
    "ylim = (linear_ffreqs[0], linear_ffreqs[-1])\n",
    "\n",
    "plt.setp(ax, xlim=xlim, ylim=ylim)\n",
    "\n",
    "fig.suptitle(f\"Fourier Tempogram (~{np.round(tempo_estimation,2)[0]} BPM)\", fontsize=16)\n",
    "\n",
    "ax.set_xlabel(\"Time (s)\")\n",
    "ax.set_ylabel(\"Tempo (BPM)\")"
   ]
  },
  {
   "cell_type": "code",
   "execution_count": null,
   "id": "f7ca1eb4",
   "metadata": {},
   "outputs": [],
   "source": [
    "from matplotlib.patches import Rectangle"
   ]
  },
  {
   "cell_type": "code",
   "execution_count": null,
   "id": "851454b8",
   "metadata": {},
   "outputs": [],
   "source": [
    "full_slice_data = linear_fT[:,805]\n",
    "plt.plot(linear_ffreqs, full_slice_data)\n",
    "plt.vlines(tempo_estimation, ymin=0, ymax=12, color=\"red\", alpha=0.8)\n",
    "plt.title(\"full slice (320-dimensional array)\")\n",
    "plt.xlabel(\"BPM\")\n",
    "plt.xlim(30, 350)"
   ]
  },
  {
   "cell_type": "code",
   "execution_count": null,
   "id": "59fc3ef8",
   "metadata": {},
   "outputs": [],
   "source": [
    "fig, ax = plt.subplots(1,1)\n",
    "plt.plot(linear_ffreqs, full_slice_data)\n",
    "# ax.vlines(tempo_estimation*2, ymin=0, ymax=12, color=\"red\", alpha=0.8)\n",
    "# ax.vlines(tempo_estimation, ymin=0, ymax=12, color=\"red\", alpha=0.8)\n",
    "ax.vlines(170, ymin=0, ymax=12, color=\"red\", alpha=0.8)\n",
    "\n",
    "# ax.title.set_text(\"full slice (320 samples)\")\n",
    "# plt.title(f\"How the model is supposed to get THIS tempo value right?\")\n",
    "ax.set_xlabel(\"BPM\")\n",
    "\n",
    "# plt.title(f\"What if the tempo was {np.round(tempo_estimation[0])*2} BPM?\")\n",
    "# plt.title(\"full slice (320-dimensional array)\")\n",
    "\n",
    "#add rectangle to plot\n",
    "ax.add_patch(Rectangle((30, 0), 128, 12, fill=False, color=\"green\"))\n",
    "\n",
    "# ax.add_patch(Rectangle((38, 0), 128, 12, fill=False, color=\"green\", linestyle=\"--\"))\n",
    "\n",
    "ax.add_patch(Rectangle((180, 0), 128, 12, fill=False, color=\"green\", linestyle=\"--\"))"
   ]
  },
  {
   "cell_type": "code",
   "execution_count": null,
   "id": "ebbf9a22",
   "metadata": {},
   "outputs": [],
   "source": [
    "plt.plot(full_slice_data[0:128])\n",
    "# plt.plot(linear_ffreqs[0:128], full_slice_data[0:128])\n",
    "\n",
    "# plt.vlines(tempo_estimation, ymin=0, ymax=12, color=\"red\", alpha=0.8)\n",
    "plt.title(\"0-shift slice (128 samples), covering from 30 BPM to 158 BPM\")\n",
    "# plt.xlabel(\"BPM\")\n",
    "plt.xlim(0,128)\n",
    "# plt.xlim(linear_ffreqs[0],linear_ffreqs[128+0])"
   ]
  },
  {
   "cell_type": "code",
   "execution_count": null,
   "id": "6b9d45a5",
   "metadata": {},
   "outputs": [],
   "source": [
    "# plt.plot(linear_ffreqs[8:128+8], full_slice_data[8:128+8])\n",
    "plt.plot(full_slice_data[8:128+8])\n",
    "# plt.vlines(tempo_estimation, ymin=0, ymax=12, color=\"red\", alpha=0.8)\n",
    "plt.title(\"8-shift slice (128 samples), covering from 38 BPM to 162 BPM\")\n",
    "# plt.xlabel(\"BPM\")\n",
    "plt.xlim(0,128)\n",
    "# plt.xlim(linear_ffreqs[8],linear_ffreqs[128+8])"
   ]
  },
  {
   "cell_type": "code",
   "execution_count": null,
   "id": "c92ec4f3",
   "metadata": {},
   "outputs": [],
   "source": [
    "figsize = (15, 5)\n",
    "fig, ax = plt.subplots(1, 1, figsize=figsize)\n",
    "\n",
    "tempo_estimation = librosa.feature.tempo(y=x, sr=fs)\n",
    "\n",
    "kwargs = st.utils._tempogram_kwargs(ft, ffreqs)\n",
    "ax.imshow(fT, **kwargs)\n",
    "ax.hlines(tempo_estimation[0], xmin=0, xmax=1000, color=\"red\", label=\"estimated time\")\n",
    "\n",
    "xlim = (ft[0], ft[-1])\n",
    "ylim = (ffreqs[0], ffreqs[-1])\n",
    "\n",
    "plt.setp(ax, xlim=xlim, ylim=ylim)\n",
    "\n",
    "fig.suptitle(f\"Fourier Tempogram (~{np.round(tempo_estimation,2)[0]} BPM)\", fontsize=16)\n",
    "\n",
    "ax.set_xlabel(\"Time (s)\")\n",
    "ax.set_ylabel(\"Tempo (BPM)\")"
   ]
  },
  {
   "cell_type": "code",
   "execution_count": null,
   "id": "edf64220",
   "metadata": {},
   "outputs": [],
   "source": [
    "fT[:,805].shape"
   ]
  },
  {
   "cell_type": "code",
   "execution_count": null,
   "id": "5718fe0d",
   "metadata": {},
   "outputs": [],
   "source": [
    "# everything but now for log\n",
    "full_slice_data = fT[:,805]\n",
    "plt.plot(ffreqs, full_slice_data)\n",
    "plt.xscale(\"log\")\n",
    "plt.vlines(tempo_estimation, ymin=0, ymax=12, color=\"red\", alpha=0.8)\n",
    "plt.title(\"full slice (153-dimensional array)\")\n",
    "plt.xlabel(\"BPM\")\n",
    "plt.xlim(30, 350)"
   ]
  },
  {
   "cell_type": "code",
   "execution_count": null,
   "id": "53e445e3",
   "metadata": {},
   "outputs": [],
   "source": [
    "import matplotlib.ticker as ticker\n"
   ]
  },
  {
   "cell_type": "code",
   "execution_count": null,
   "id": "9e8443f6",
   "metadata": {},
   "outputs": [],
   "source": [
    "fig, ax = plt.subplots(1,1)\n",
    "plt.plot(ffreqs, full_slice_data)\n",
    "# ax.vlines(tempo_estimation*2, ymin=0, ymax=12, color=\"red\", alpha=0.8)\n",
    "ax.vlines(tempo_estimation, ymin=0, ymax=12, color=\"red\", alpha=0.8)\n",
    "# ax.vlines(170, ymin=0, ymax=12, color=\"red\", alpha=0.8)\n",
    "ax.set_xscale(\"log\")\n",
    "ax.set_xticks([], [])\n",
    "ax.set_xticks(ffreqs.astype(int)[::15])\n",
    "ax.xaxis.set_major_formatter(ticker.ScalarFormatter())\n",
    "\n",
    "# ax.title.set_text(\"full slice (320 samples)\")\n",
    "# plt.title(f\"How the model is supposed to get THIS tempo value right?\")\n",
    "ax.set_xlabel(\"BPM\")\n",
    "\n",
    "# plt.title(f\"What if the tempo was {np.round(tempo_estimation[0])*2} BPM?\")\n",
    "plt.title(\"full slice (153-dimensional array)\")\n",
    "\n",
    "#add rectangle to plot\n",
    "ax.add_patch(Rectangle((30, 0), ffreqs[11:128+11][-1]-ffreqs[11:128+11][0], 12, fill=False, color=\"green\"))\n",
    "\n",
    "ax.add_patch(Rectangle((38, 0), ffreqs[18:128+18][-1]-ffreqs[18:128+18][0], 12, fill=False, color=\"green\", linestyle=\"--\"))\n",
    "\n",
    "# ax.add_patch(Rectangle((180, 0), 128, 12, fill=False, color=\"green\", linestyle=\"--\"))"
   ]
  },
  {
   "cell_type": "code",
   "execution_count": null,
   "id": "c30778b2",
   "metadata": {},
   "outputs": [],
   "source": [
    "ffreqs[18:128+18]"
   ]
  },
  {
   "cell_type": "code",
   "execution_count": null,
   "id": "e7fb6dc9",
   "metadata": {},
   "outputs": [],
   "source": [
    "plt.plot(full_slice_data[11:128+11])\n",
    "plt.title(\"11-shift slice (128 samples), covering from 30 BPM to 273 BPM\")\n",
    "plt.xlim(0,128)"
   ]
  },
  {
   "cell_type": "code",
   "execution_count": null,
   "id": "ad12df9a",
   "metadata": {},
   "outputs": [],
   "source": [
    "plt.plot(full_slice_data[18:128+18])\n",
    "plt.title(\"18-shift slice (128 samples), covering from 34 BPM to 308 BPM\")\n",
    "plt.xlim(0,128)"
   ]
  },
  {
   "cell_type": "markdown",
   "id": "b25b8247",
   "metadata": {},
   "source": [
    "# end tmp"
   ]
  },
  {
   "cell_type": "markdown",
   "id": "597a61b1",
   "metadata": {},
   "source": [
    "# tmp 2"
   ]
  },
  {
   "cell_type": "code",
   "execution_count": null,
   "id": "c9ca5ce8",
   "metadata": {},
   "outputs": [],
   "source": [
    "figsize = (15, 5)\n",
    "fig, ax = plt.subplots(1, 1, figsize=figsize)\n",
    "\n",
    "increasing_tempo = np.array([])\n",
    "sr = 22500\n",
    "for i in range(1,8):\n",
    "    tmp = st.audio.click_track(bpm=50*i, sr=sr, duration=10)\n",
    "    increasing_tempo = np.append(increasing_tempo, tmp)\n",
    "    \n",
    "x_fT, x_ft, x_ffreqs = st.audio.tempogram(x=increasing_tempo, sr=sr, window_size_seconds=10, t_type=\"hybrid\", theta=linear_axis)\n",
    "\n",
    "    \n",
    "kwargs = st.utils._tempogram_kwargs(x_ft, x_ffreqs)\n",
    "ax.imshow(x_fT, **kwargs)\n",
    "\n",
    "xlim = (x_ft[0], x_ft[-1])\n",
    "ylim = (x_ffreqs[0], x_ffreqs[-1])\n",
    "\n",
    "plt.setp(ax, xlim=xlim, ylim=ylim)\n",
    "\n",
    "fig.suptitle(f\"Hybrid Tempogram\", fontsize=16)\n",
    "\n",
    "ax.set_xlabel(\"Time (s)\")\n",
    "ax.set_ylabel(\"Tempo (BPM)\")"
   ]
  },
  {
   "cell_type": "markdown",
   "id": "2f468ec7",
   "metadata": {},
   "source": [
    "# end tmp 2"
   ]
  },
  {
   "cell_type": "code",
   "execution_count": null,
   "id": "0bddd749",
   "metadata": {},
   "outputs": [],
   "source": [
    "linear_fT, linear_ft, linear_ffreqs = st.audio.tempogram(x=x, sr=fs, window_size_seconds=10, t_type=\"fourier\", theta=linear_axis)\n",
    "fT, ft, ffreqs = st.audio.tempogram(x=x, sr=fs, window_size_seconds=10, t_type=\"fourier\", theta=log_axis)\n",
    "\n",
    "fig, ax = plot_comparison(\n",
    "    T=[linear_fT, fT], \n",
    "    t=[linear_ft, ft], \n",
    "    freqs=[linear_ffreqs, ffreqs], \n",
    "    subplot_titles=[\"linear axis\", \"logarithmic axis\"],\n",
    "    ttypes=[\"linear\", \"log\"],\n",
    "    fig_title=\"Fourier tempogram\"\n",
    ")"
   ]
  },
  {
   "cell_type": "code",
   "execution_count": null,
   "id": "2d467719",
   "metadata": {},
   "outputs": [],
   "source": [
    "linear_aT, linear_at, linear_afreqs = st.audio.tempogram(x=x, sr=fs, window_size_seconds=10, t_type=\"autocorrelation\", theta=linear_axis)\n",
    "aT, at, afreqs = st.audio.tempogram(x=x, sr=fs, window_size_seconds=10, t_type=\"autocorrelation\", theta=log_axis)\n",
    "\n",
    "fig, ax = plot_comparison(\n",
    "    T=[linear_aT, aT], \n",
    "    t=[linear_at, at], \n",
    "    freqs=[linear_afreqs, afreqs], \n",
    "    subplot_titles=[\"linear axis\", \"logarithmic axis\"],\n",
    "    ttypes=[\"linear\", \"log\"],\n",
    "    fig_title=\"Autocorrelation tempogram\"\n",
    ")"
   ]
  },
  {
   "cell_type": "code",
   "execution_count": null,
   "id": "3804eb40",
   "metadata": {},
   "outputs": [],
   "source": [
    "linear_hT, linear_ht, linear_hfreqs = st.audio.tempogram(x=x, sr=fs, window_size_seconds=10, t_type=\"autocorrelation\", theta=linear_axis)\n",
    "hT, ht, hfreqs = st.audio.tempogram(x=x, sr=fs, window_size_seconds=10, t_type=\"hybrid\", theta=log_axis)\n",
    "\n",
    "fig, ax = plot_comparison(\n",
    "    T=[linear_hT, hT], \n",
    "    t=[linear_ht, ht], \n",
    "    freqs=[linear_hfreqs, hfreqs], \n",
    "    subplot_titles=[\"linear axis\", \"logarithmic axis\"],\n",
    "    ttypes=[\"linear\", \"log\"],\n",
    "    fig_title=\"Hybrid tempogram\"\n",
    ")"
   ]
  },
  {
   "cell_type": "markdown",
   "id": "8e0cdfb5",
   "metadata": {},
   "source": [
    "# same representation for steady and changing tempo"
   ]
  },
  {
   "cell_type": "code",
   "execution_count": null,
   "id": "9c8009d3",
   "metadata": {},
   "outputs": [],
   "source": [
    "x, x_fs = librosa.load(librosa.example(\"brahms\"))\n",
    "y, y_fs = librosa.load(librosa.example(\"choice\"))"
   ]
  },
  {
   "cell_type": "code",
   "execution_count": null,
   "id": "2030d46f",
   "metadata": {},
   "outputs": [],
   "source": [
    "x_fT, x_ft, x_ffreqs = st.audio.tempogram(x=x, sr=x_fs, window_size_seconds=10, t_type=\"fourier\", theta=log_axis)\n",
    "y_fT, y_ft, y_ffreqs = st.audio.tempogram(x=y, sr=y_fs, window_size_seconds=10, t_type=\"fourier\", theta=log_axis)\n",
    "\n",
    "fig, ax = plot_comparison(\n",
    "    T=[x_fT, y_fT], \n",
    "    t=[x_ft, y_ft], \n",
    "    freqs=[x_ffreqs, y_ffreqs], \n",
    "    ttypes=[\"log\", \"log\"],\n",
    "    subplot_titles=[\"changing tempo (brahms)\", \"steady tempo (choice)\"],\n",
    "    fig_title=\"Fourier tempogram\"\n",
    ")"
   ]
  },
  {
   "cell_type": "code",
   "execution_count": null,
   "id": "5e392dfd",
   "metadata": {},
   "outputs": [],
   "source": [
    "x_fT, x_ft, x_ffreqs = st.audio.tempogram(x=x, sr=x_fs, window_size_seconds=10, t_type=\"autocorrelation\", theta=log_axis)\n",
    "y_fT, y_ft, y_ffreqs = st.audio.tempogram(x=y, sr=y_fs, window_size_seconds=10, t_type=\"autocorrelation\", theta=log_axis)\n",
    "\n",
    "fig, ax = plot_comparison(\n",
    "    T=[x_fT, y_fT], \n",
    "    t=[x_ft, y_ft], \n",
    "    freqs=[x_ffreqs, y_ffreqs], \n",
    "    ttypes=[\"log\", \"log\"],\n",
    "    subplot_titles=[\"changing tempo (brahms)\", \"steady tempo (choice)\"],\n",
    "    fig_title=\"Autocorrelation tempogram\"\n",
    ")"
   ]
  },
  {
   "cell_type": "code",
   "execution_count": null,
   "id": "e962ba6b",
   "metadata": {},
   "outputs": [],
   "source": [
    "x_fT, x_ft, x_ffreqs = st.audio.tempogram(x=x, sr=x_fs, window_size_seconds=10, t_type=\"hybrid\", theta=log_axis)\n",
    "y_fT, y_ft, y_ffreqs = st.audio.tempogram(x=y, sr=y_fs, window_size_seconds=10, t_type=\"hybrid\", theta=log_axis)\n",
    "\n",
    "fig, ax = plot_comparison(\n",
    "    T=[x_fT, y_fT], \n",
    "    t=[x_ft, y_ft], \n",
    "    freqs=[x_ffreqs, y_ffreqs],\n",
    "    ttypes=[\"log\", \"log\"],\n",
    "    subplot_titles=[\"changing tempo (brahms)\", \"steady tempo (choice)\"],\n",
    "    fig_title=\"Hybrid tempogram\"\n",
    ")\n"
   ]
  },
  {
   "cell_type": "code",
   "execution_count": null,
   "id": "d9fe7dd3",
   "metadata": {},
   "outputs": [],
   "source": [
    "increasing_tempo = np.array([])\n",
    "sr = 22500\n",
    "for i in range(1,8):\n",
    "    tmp = st.audio.click_track(bpm=50*i, sr=sr, duration=10)\n",
    "    increasing_tempo = np.append(increasing_tempo, tmp)\n",
    "    \n",
    "x_fT, x_ft, x_ffreqs = st.audio.tempogram(x=increasing_tempo, sr=sr, window_size_seconds=10, t_type=\"fourier\", theta=linear_axis)\n",
    "y_fT, y_ft, y_ffreqs = st.audio.tempogram(x=increasing_tempo, sr=sr, window_size_seconds=10, t_type=\"fourier\", theta=log_axis)\n",
    "\n",
    "fig, ax = plot_comparison(\n",
    "    T=[x_fT, y_fT], \n",
    "    t=[x_ft, y_ft], \n",
    "    freqs=[x_ffreqs, y_ffreqs], \n",
    "    subplot_titles=[\"linear\", \"log\"],\n",
    "    ttypes=[\"linear\", \"log\"],\n",
    "    fig_title=\"fourier tempogram\"\n",
    ")\n"
   ]
  },
  {
   "cell_type": "markdown",
   "id": "5207ef70",
   "metadata": {},
   "source": [
    "# Interactive view"
   ]
  },
  {
   "cell_type": "code",
   "execution_count": null,
   "id": "9f83abf1",
   "metadata": {},
   "outputs": [],
   "source": [
    "import holoviews as hv \n",
    "import panel as pn\n",
    "hv.extension(\"bokeh\", logo=False)"
   ]
  },
  {
   "cell_type": "code",
   "execution_count": null,
   "id": "7f74e366",
   "metadata": {},
   "outputs": [],
   "source": [
    "increasing_tempo = np.array([]) #np.zeros([fs*7*3])\n",
    "sr = 22500\n",
    "for i in range(1,8):\n",
    "    tmp = audio.click_track(bpm=50*i, sr=sr, duration=3)\n",
    "    increasing_tempo = np.append(increasing_tempo, tmp)"
   ]
  },
  {
   "cell_type": "code",
   "execution_count": null,
   "id": "7f7c66b9",
   "metadata": {},
   "outputs": [],
   "source": [
    "audio_data = np.int16(increasing_tempo * 32767)"
   ]
  },
  {
   "cell_type": "code",
   "execution_count": null,
   "id": "237b7a8a",
   "metadata": {},
   "outputs": [],
   "source": [
    "ipd.Audio(increasing_tempo, rate=sr)"
   ]
  },
  {
   "cell_type": "markdown",
   "id": "077b797d",
   "metadata": {},
   "source": [
    "## Fourier"
   ]
  },
  {
   "cell_type": "code",
   "execution_count": null,
   "id": "3e760760",
   "metadata": {},
   "outputs": [],
   "source": [
    "fT, ft, ffreqs = audio.tempogram(x=increasing_tempo, sr=sr, window_size_seconds=10, t_type=\"fourier\", theta=log_axis)\n",
    "st.utils.plot_tempogram(fT, ft, ffreqs)"
   ]
  },
  {
   "cell_type": "code",
   "execution_count": null,
   "id": "faf8ef60",
   "metadata": {},
   "outputs": [],
   "source": [
    "fT, ft, ffreqs = st.audio.tempogram(x=increasing_tempo, sr=sr, window_size_seconds=10, t_type=\"fourier\", theta=linear_axis)\n",
    "\n",
    "spec_gram = hv.Image((ft, ffreqs, fT), [\"Time (s)\", \"Tempo (BPM)\"]).opts(width=600)\n",
    "audio = pn.pane.Audio(audio_data, sample_rate=sr, name='Audio', throttle=500)\n",
    "\n",
    "def update_playhead(x,y,t):\n",
    "    if x is None:\n",
    "        return hv.VLine(t)\n",
    "    else:\n",
    "        audio.time = x\n",
    "        return hv.VLine(x)\n",
    "\n",
    "tap_stream = hv.streams.SingleTap(transient=True)\n",
    "time_play_stream = hv.streams.Params(parameters=[audio.param.time], rename={'time': 't'})\n",
    "dmap_time = hv.DynamicMap(update_playhead, streams=[time_play_stream, tap_stream])\n",
    "out = pn.Column( audio, \n",
    "               (spec_gram * dmap_time))"
   ]
  },
  {
   "cell_type": "code",
   "execution_count": null,
   "id": "bec52d19",
   "metadata": {},
   "outputs": [],
   "source": [
    "out"
   ]
  },
  {
   "cell_type": "markdown",
   "id": "f4b57874",
   "metadata": {},
   "source": [
    "## Autocorrelation"
   ]
  },
  {
   "cell_type": "code",
   "execution_count": null,
   "id": "569c9751",
   "metadata": {},
   "outputs": [],
   "source": [
    "spec_gram = hv.Image((at, afreqs, aT), [\"Time (s)\", \"Tempo (BPM)\"]).opts(width=600)\n",
    "audio = pn.pane.Audio(audio_data, sample_rate=fs, name='Audio', throttle=500)\n",
    "\n",
    "def update_playhead(x,y,t):\n",
    "    if x is None:\n",
    "        return hv.VLine(t)\n",
    "    else:\n",
    "        audio.time = x\n",
    "        return hv.VLine(x)\n",
    "\n",
    "tap_stream = hv.streams.SingleTap(transient=True)\n",
    "time_play_stream = hv.streams.Params(parameters=[audio.param.time], rename={'time': 't'})\n",
    "dmap_time = hv.DynamicMap(update_playhead, streams=[time_play_stream, tap_stream])\n",
    "out = pn.Column( audio, \n",
    "               (spec_gram * dmap_time))"
   ]
  },
  {
   "cell_type": "code",
   "execution_count": null,
   "id": "22f9410d",
   "metadata": {},
   "outputs": [],
   "source": [
    "out"
   ]
  },
  {
   "cell_type": "markdown",
   "id": "2edfc8cb",
   "metadata": {},
   "source": [
    "## Hybrid"
   ]
  },
  {
   "cell_type": "code",
   "execution_count": null,
   "id": "2a43a1fe",
   "metadata": {},
   "outputs": [],
   "source": [
    "spec_gram = hv.Image((ht, hfreqs, hT), [\"Time (s)\", \"Tempo (BPM)\"]).opts(width=600)\n",
    "audio = pn.pane.Audio(audio_data, sample_rate=fs, name='Audio', throttle=500)\n",
    "\n",
    "def update_playhead(x,y,t):\n",
    "    if x is None:\n",
    "        return hv.VLine(t)\n",
    "    else:\n",
    "        audio.time = x\n",
    "        return hv.VLine(x)\n",
    "\n",
    "tap_stream = hv.streams.SingleTap(transient=True)\n",
    "time_play_stream = hv.streams.Params(parameters=[audio.param.time], rename={'time': 't'})\n",
    "dmap_time = hv.DynamicMap(update_playhead, streams=[time_play_stream, tap_stream])\n",
    "out = pn.Column( audio, \n",
    "               (spec_gram * dmap_time))"
   ]
  },
  {
   "cell_type": "code",
   "execution_count": null,
   "id": "176ff00b",
   "metadata": {},
   "outputs": [],
   "source": [
    "out"
   ]
  }
 ],
 "metadata": {
  "kernelspec": {
   "display_name": "Python 3 (ipykernel)",
   "language": "python",
   "name": "python3"
  },
  "language_info": {
   "codemirror_mode": {
    "name": "ipython",
    "version": 3
   },
   "file_extension": ".py",
   "mimetype": "text/x-python",
   "name": "python",
   "nbconvert_exporter": "python",
   "pygments_lexer": "ipython3",
   "version": "3.10.6"
  }
 },
 "nbformat": 4,
 "nbformat_minor": 5
}
