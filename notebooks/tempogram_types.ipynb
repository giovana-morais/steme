{
 "cells": [
  {
   "cell_type": "code",
   "execution_count": null,
   "id": "d156313a",
   "metadata": {},
   "outputs": [],
   "source": [
    "import librosa \n",
    "import numpy as np\n",
    "import matplotlib.pyplot as plt\n",
    "\n",
    "import steme as st\n",
    "\n",
    "import IPython.display as ipd"
   ]
  },
  {
   "cell_type": "code",
   "execution_count": null,
   "id": "37c72f1d",
   "metadata": {},
   "outputs": [],
   "source": [
    "librosa.util.list_examples()"
   ]
  },
  {
   "cell_type": "code",
   "execution_count": null,
   "id": "dccc3a8b",
   "metadata": {},
   "outputs": [],
   "source": [
    "x, fs = librosa.load(librosa.example(\"brahms\"))\n",
    "# you can explore further examples if you want to:\n",
    "# x, fs = librosa.load(librosa.example(\"sweetwaltz\"))"
   ]
  },
  {
   "cell_type": "code",
   "execution_count": null,
   "id": "b2e1caf1",
   "metadata": {},
   "outputs": [],
   "source": [
    "ipd.Audio(x, rate=fs)"
   ]
  },
  {
   "cell_type": "markdown",
   "id": "409ff09d",
   "metadata": {},
   "source": [
    "# linear axis versus log axis"
   ]
  },
  {
   "cell_type": "code",
   "execution_count": null,
   "id": "afb1b77b",
   "metadata": {},
   "outputs": [],
   "source": [
    "linear_axis = np.arange(30,600,1)\n",
    "log_axis = st.dataset.variables_non_linear()\n",
    "log_axis = log_axis[log_axis < 350]"
   ]
  },
  {
   "cell_type": "code",
   "execution_count": null,
   "id": "6d462512",
   "metadata": {},
   "outputs": [],
   "source": [
    "def plot_comparison(T, t, freqs, ttypes, subplot_titles, fig_title=None):\n",
    "    \"\"\"\n",
    "    helper function to plot tempograms side-by-side.\n",
    "    \"\"\"\n",
    "    figsize = (15, 5)\n",
    "    num_tempograms = len(T)\n",
    "    fig, ax = plt.subplots(1, num_tempograms, figsize=figsize)\n",
    "\n",
    "    for idx in range(num_tempograms):\n",
    "        kwargs = st.utils._tempogram_kwargs(t[idx], freqs[idx])\n",
    "\n",
    "        ax[idx].imshow(T[idx], **kwargs)\n",
    "\n",
    "        xlim = (t[idx][0], t[idx][-1])\n",
    "        ylim = (freqs[idx][0], freqs[idx][-1])\n",
    "\n",
    "        plt.setp(ax, xlim=xlim, ylim=ylim)\n",
    "        \n",
    "        if ttypes[idx] == \"log\":\n",
    "            labels = [item.get_text() for item in ax[0].get_yticklabels()]\n",
    "            new_labels = np.rint(log_axis[::20]).astype(int)\n",
    "            ax[idx].set_yticklabels(new_labels)\n",
    "\n",
    "        if fig_title is not None:\n",
    "            fig.suptitle(fig_title, fontsize=16)\n",
    "\n",
    "        ax[idx].set_xlabel(\"Time (s)\")\n",
    "        ax[idx].set_ylabel(\"Tempo (BPM)\")\n",
    "        ax[idx].title.set_text(subplot_titles[idx])\n",
    "    return fig, ax"
   ]
  },
  {
   "cell_type": "code",
   "execution_count": null,
   "id": "0bddd749",
   "metadata": {},
   "outputs": [],
   "source": [
    "linear_fT, linear_ft, linear_ffreqs = st.audio.tempogram(x=x, sr=fs, window_size_seconds=10, t_type=\"fourier\", theta=linear_axis)\n",
    "fT, ft, ffreqs = st.audio.tempogram(x=x, sr=fs, window_size_seconds=10, t_type=\"fourier\", theta=log_axis)\n",
    "\n",
    "fig, ax = plot_comparison(\n",
    "    T=[linear_fT, fT], \n",
    "    t=[linear_ft, ft], \n",
    "    freqs=[linear_ffreqs, ffreqs], \n",
    "    subplot_titles=[\"linear axis\", \"logarithmic axis\"],\n",
    "    ttypes=[\"linear\", \"log\"],\n",
    "    fig_title=\"Fourier tempogram\"\n",
    ")"
   ]
  },
  {
   "cell_type": "code",
   "execution_count": null,
   "id": "2d467719",
   "metadata": {},
   "outputs": [],
   "source": [
    "linear_aT, linear_at, linear_afreqs = st.audio.tempogram(x=x, sr=fs, window_size_seconds=10, t_type=\"autocorrelation\", theta=linear_axis)\n",
    "aT, at, afreqs = st.audio.tempogram(x=x, sr=fs, window_size_seconds=10, t_type=\"autocorrelation\", theta=log_axis)\n",
    "\n",
    "fig, ax = plot_comparison(\n",
    "    T=[linear_aT, aT], \n",
    "    t=[linear_at, at], \n",
    "    freqs=[linear_afreqs, afreqs], \n",
    "    subplot_titles=[\"linear axis\", \"logarithmic axis\"],\n",
    "    ttypes=[\"linear\", \"log\"],\n",
    "    fig_title=\"Autocorrelation tempogram\"\n",
    ")"
   ]
  },
  {
   "cell_type": "code",
   "execution_count": null,
   "id": "3804eb40",
   "metadata": {},
   "outputs": [],
   "source": [
    "linear_hT, linear_ht, linear_hfreqs = st.audio.tempogram(x=x, sr=fs, window_size_seconds=10, t_type=\"autocorrelation\", theta=linear_axis)\n",
    "hT, ht, hfreqs = st.audio.tempogram(x=x, sr=fs, window_size_seconds=10, t_type=\"hybrid\", theta=log_axis)\n",
    "\n",
    "fig, ax = plot_comparison(\n",
    "    T=[linear_hT, hT], \n",
    "    t=[linear_ht, ht], \n",
    "    freqs=[linear_hfreqs, hfreqs], \n",
    "    subplot_titles=[\"linear axis\", \"logarithmic axis\"],\n",
    "    ttypes=[\"linear\", \"log\"],\n",
    "    fig_title=\"Hybrid tempogram\"\n",
    ")"
   ]
  },
  {
   "cell_type": "markdown",
   "id": "8e0cdfb5",
   "metadata": {},
   "source": [
    "# same representation for steady and changing tempo"
   ]
  },
  {
   "cell_type": "code",
   "execution_count": null,
   "id": "9c8009d3",
   "metadata": {},
   "outputs": [],
   "source": [
    "x, x_fs = librosa.load(librosa.example(\"brahms\"))\n",
    "y, y_fs = librosa.load(librosa.example(\"choice\"))"
   ]
  },
  {
   "cell_type": "code",
   "execution_count": null,
   "id": "2030d46f",
   "metadata": {},
   "outputs": [],
   "source": [
    "x_fT, x_ft, x_ffreqs = st.audio.tempogram(x=x, sr=x_fs, window_size_seconds=10, t_type=\"fourier\", theta=log_axis)\n",
    "y_fT, y_ft, y_ffreqs = st.audio.tempogram(x=y, sr=y_fs, window_size_seconds=10, t_type=\"fourier\", theta=log_axis)\n",
    "\n",
    "fig, ax = plot_comparison(\n",
    "    T=[x_fT, y_fT], \n",
    "    t=[x_ft, y_ft], \n",
    "    freqs=[x_ffreqs, y_ffreqs], \n",
    "    ttypes=[\"log\", \"log\"],\n",
    "    subplot_titles=[\"changing tempo (brahms)\", \"steady tempo (choice)\"],\n",
    "    fig_title=\"Fourier tempogram\"\n",
    ")"
   ]
  },
  {
   "cell_type": "code",
   "execution_count": null,
   "id": "5e392dfd",
   "metadata": {},
   "outputs": [],
   "source": [
    "x_fT, x_ft, x_ffreqs = st.audio.tempogram(x=x, sr=x_fs, window_size_seconds=10, t_type=\"autocorrelation\", theta=log_axis)\n",
    "y_fT, y_ft, y_ffreqs = st.audio.tempogram(x=y, sr=y_fs, window_size_seconds=10, t_type=\"autocorrelation\", theta=log_axis)\n",
    "\n",
    "fig, ax = plot_comparison(\n",
    "    T=[x_fT, y_fT], \n",
    "    t=[x_ft, y_ft], \n",
    "    freqs=[x_ffreqs, y_ffreqs], \n",
    "    ttypes=[\"log\", \"log\"],\n",
    "    subplot_titles=[\"changing tempo (brahms)\", \"steady tempo (choice)\"],\n",
    "    fig_title=\"Autocorrelation tempogram\"\n",
    ")"
   ]
  },
  {
   "cell_type": "code",
   "execution_count": null,
   "id": "e962ba6b",
   "metadata": {},
   "outputs": [],
   "source": [
    "x_fT, x_ft, x_ffreqs = st.audio.tempogram(x=x, sr=x_fs, window_size_seconds=10, t_type=\"hybrid\", theta=log_axis)\n",
    "y_fT, y_ft, y_ffreqs = st.audio.tempogram(x=y, sr=y_fs, window_size_seconds=10, t_type=\"hybrid\", theta=log_axis)\n",
    "\n",
    "fig, ax = plot_comparison(\n",
    "    T=[x_fT, y_fT], \n",
    "    t=[x_ft, y_ft], \n",
    "    freqs=[x_ffreqs, y_ffreqs],\n",
    "    ttypes=[\"log\", \"log\"],\n",
    "    subplot_titles=[\"changing tempo (brahms)\", \"steady tempo (choice)\"],\n",
    "    fig_title=\"Hybrid tempogram\"\n",
    ")\n"
   ]
  },
  {
   "cell_type": "code",
   "execution_count": null,
   "id": "d9fe7dd3",
   "metadata": {},
   "outputs": [],
   "source": [
    "increasing_tempo = np.array([])\n",
    "sr = 22500\n",
    "for i in range(1,8):\n",
    "    tmp = st.audio.click_track(bpm=100*i, sr=sr, duration=3)\n",
    "    increasing_tempo = np.append(increasing_tempo, tmp)\n",
    "    \n",
    "x_fT, x_ft, x_ffreqs = st.audio.tempogram(x=increasing_tempo, sr=sr, window_size_seconds=10, t_type=\"fourier\", theta=linear_axis)\n",
    "y_fT, y_ft, y_ffreqs = st.audio.tempogram(x=increasing_tempo, sr=sr, window_size_seconds=10, t_type=\"fourier\", theta=log_axis)\n",
    "\n",
    "fig, ax = plot_comparison(\n",
    "    T=[x_fT, y_fT], \n",
    "    t=[x_ft, y_ft], \n",
    "    freqs=[x_ffreqs, y_ffreqs], \n",
    "    subplot_titles=[\"linear\", \"log\"],\n",
    "    ttypes=[\"linear\", \"log\"],\n",
    "    fig_title=\"fourier tempogram\"\n",
    ")\n"
   ]
  },
  {
   "cell_type": "markdown",
   "id": "5207ef70",
   "metadata": {},
   "source": [
    "# Interactive view"
   ]
  },
  {
   "cell_type": "code",
   "execution_count": null,
   "id": "9f83abf1",
   "metadata": {},
   "outputs": [],
   "source": [
    "import holoviews as hv \n",
    "import panel as pn\n",
    "hv.extension(\"bokeh\", logo=False)"
   ]
  },
  {
   "cell_type": "code",
   "execution_count": null,
   "id": "7f74e366",
   "metadata": {},
   "outputs": [],
   "source": [
    "increasing_tempo = np.array([]) #np.zeros([fs*7*3])\n",
    "sr = 22500\n",
    "for i in range(1,8):\n",
    "    tmp = audio.click_track(bpm=50*i, sr=sr, duration=3)\n",
    "    increasing_tempo = np.append(increasing_tempo, tmp)"
   ]
  },
  {
   "cell_type": "code",
   "execution_count": null,
   "id": "7f7c66b9",
   "metadata": {},
   "outputs": [],
   "source": [
    "audio_data = np.int16(increasing_tempo * 32767)"
   ]
  },
  {
   "cell_type": "code",
   "execution_count": null,
   "id": "237b7a8a",
   "metadata": {},
   "outputs": [],
   "source": [
    "ipd.Audio(increasing_tempo, rate=sr)"
   ]
  },
  {
   "cell_type": "markdown",
   "id": "077b797d",
   "metadata": {},
   "source": [
    "## Fourier"
   ]
  },
  {
   "cell_type": "code",
   "execution_count": null,
   "id": "3e760760",
   "metadata": {},
   "outputs": [],
   "source": [
    "fT, ft, ffreqs = audio.tempogram(x=increasing_tempo, sr=sr, window_size_seconds=10, t_type=\"fourier\", theta=log_axis)\n",
    "st.utils.plot_tempogram(fT, ft, ffreqs)"
   ]
  },
  {
   "cell_type": "code",
   "execution_count": null,
   "id": "faf8ef60",
   "metadata": {},
   "outputs": [],
   "source": [
    "fT, ft, ffreqs = st.audio.tempogram(x=increasing_tempo, sr=sr, window_size_seconds=10, t_type=\"fourier\", theta=linear_axis)\n",
    "\n",
    "spec_gram = hv.Image((ft, ffreqs, fT), [\"Time (s)\", \"Tempo (BPM)\"]).opts(width=600)\n",
    "audio = pn.pane.Audio(audio_data, sample_rate=sr, name='Audio', throttle=500)\n",
    "\n",
    "def update_playhead(x,y,t):\n",
    "    if x is None:\n",
    "        return hv.VLine(t)\n",
    "    else:\n",
    "        audio.time = x\n",
    "        return hv.VLine(x)\n",
    "\n",
    "tap_stream = hv.streams.SingleTap(transient=True)\n",
    "time_play_stream = hv.streams.Params(parameters=[audio.param.time], rename={'time': 't'})\n",
    "dmap_time = hv.DynamicMap(update_playhead, streams=[time_play_stream, tap_stream])\n",
    "out = pn.Column( audio, \n",
    "               (spec_gram * dmap_time))"
   ]
  },
  {
   "cell_type": "code",
   "execution_count": null,
   "id": "bec52d19",
   "metadata": {},
   "outputs": [],
   "source": [
    "out"
   ]
  },
  {
   "cell_type": "markdown",
   "id": "f4b57874",
   "metadata": {},
   "source": [
    "## Autocorrelation"
   ]
  },
  {
   "cell_type": "code",
   "execution_count": null,
   "id": "569c9751",
   "metadata": {},
   "outputs": [],
   "source": [
    "spec_gram = hv.Image((at, afreqs, aT), [\"Time (s)\", \"Tempo (BPM)\"]).opts(width=600)\n",
    "audio = pn.pane.Audio(audio_data, sample_rate=fs, name='Audio', throttle=500)\n",
    "\n",
    "def update_playhead(x,y,t):\n",
    "    if x is None:\n",
    "        return hv.VLine(t)\n",
    "    else:\n",
    "        audio.time = x\n",
    "        return hv.VLine(x)\n",
    "\n",
    "tap_stream = hv.streams.SingleTap(transient=True)\n",
    "time_play_stream = hv.streams.Params(parameters=[audio.param.time], rename={'time': 't'})\n",
    "dmap_time = hv.DynamicMap(update_playhead, streams=[time_play_stream, tap_stream])\n",
    "out = pn.Column( audio, \n",
    "               (spec_gram * dmap_time))"
   ]
  },
  {
   "cell_type": "code",
   "execution_count": null,
   "id": "22f9410d",
   "metadata": {},
   "outputs": [],
   "source": [
    "out"
   ]
  },
  {
   "cell_type": "markdown",
   "id": "2edfc8cb",
   "metadata": {},
   "source": [
    "## Hybrid"
   ]
  },
  {
   "cell_type": "code",
   "execution_count": null,
   "id": "2a43a1fe",
   "metadata": {},
   "outputs": [],
   "source": [
    "spec_gram = hv.Image((ht, hfreqs, hT), [\"Time (s)\", \"Tempo (BPM)\"]).opts(width=600)\n",
    "audio = pn.pane.Audio(audio_data, sample_rate=fs, name='Audio', throttle=500)\n",
    "\n",
    "def update_playhead(x,y,t):\n",
    "    if x is None:\n",
    "        return hv.VLine(t)\n",
    "    else:\n",
    "        audio.time = x\n",
    "        return hv.VLine(x)\n",
    "\n",
    "tap_stream = hv.streams.SingleTap(transient=True)\n",
    "time_play_stream = hv.streams.Params(parameters=[audio.param.time], rename={'time': 't'})\n",
    "dmap_time = hv.DynamicMap(update_playhead, streams=[time_play_stream, tap_stream])\n",
    "out = pn.Column( audio, \n",
    "               (spec_gram * dmap_time))"
   ]
  },
  {
   "cell_type": "code",
   "execution_count": null,
   "id": "176ff00b",
   "metadata": {},
   "outputs": [],
   "source": [
    "out"
   ]
  }
 ],
 "metadata": {
  "kernelspec": {
   "display_name": "Python 3 (ipykernel)",
   "language": "python",
   "name": "python3"
  },
  "language_info": {
   "codemirror_mode": {
    "name": "ipython",
    "version": 3
   },
   "file_extension": ".py",
   "mimetype": "text/x-python",
   "name": "python",
   "nbconvert_exporter": "python",
   "pygments_lexer": "ipython3",
   "version": "3.10.6"
  }
 },
 "nbformat": 4,
 "nbformat_minor": 5
}
