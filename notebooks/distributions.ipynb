{
 "cells": [
  {
   "cell_type": "code",
   "execution_count": null,
   "id": "e2297721",
   "metadata": {},
   "outputs": [],
   "source": [
    "import numpy as np\n",
    "import matplotlib.pyplot as plt\n",
    "import matplotlib.ticker as ticker\n",
    "\n",
    "from scipy.stats import lognorm, uniform\n",
    "\n",
    "import steme.dataset as dataset\n",
    "import steme.loader as loader"
   ]
  },
  {
   "cell_type": "code",
   "execution_count": null,
   "id": "41cd8ee0",
   "metadata": {},
   "outputs": [],
   "source": [
    "import matplotlib\n",
    "matplotlib.rc('xtick', labelsize=18) \n",
    "matplotlib.rc('ytick', labelsize=18) \n",
    "matplotlib.rc('axes', labelsize=18)\n",
    "matplotlib.rc('legend', fontsize=16)\n",
    "matplotlib.rc('figure', titlesize=16)"
   ]
  },
  {
   "cell_type": "code",
   "execution_count": null,
   "id": "eba0eab5",
   "metadata": {},
   "outputs": [],
   "source": [
    "def gtzan_data():\n",
    "    import mirdata\n",
    "    gtzan = mirdata.initialize(\"gtzan_genre\",\n",
    "            data_home=\"../../datasets/gtzan_genre\",\n",
    "            version=\"default\")\n",
    "    tracks = gtzan.track_ids\n",
    "    tracks.remove(\"reggae.00086\")\n",
    "    tempi = [gtzan.track(track_id).tempo for track_id in tracks]\n",
    "\n",
    "    return gtzan, tracks, tempi\n",
    "\n",
    "dist_low = lognorm.rvs(0.25, loc=30, scale=50, size=1000, random_state=42)\n",
    "dist_medium = lognorm.rvs(0.25, loc=70, scale=50, size=1000, random_state=42)\n",
    "dist_high = lognorm.rvs(0.25, loc=120, scale=50, size=1000, random_state=42)\n",
    "dist_uniform = uniform.rvs(30, scale=210,size=1000, random_state=42)\n",
    "dist_log_uniform = 30*np.e**(np.random.rand(1000)*np.log(240/30))\n",
    "_, _, dist_gtzan = gtzan_data()\n",
    "dist_gtzan = np.array(dist_gtzan)"
   ]
  },
  {
   "cell_type": "code",
   "execution_count": null,
   "id": "6562d664",
   "metadata": {},
   "outputs": [],
   "source": [
    "from collections import Counter"
   ]
  },
  {
   "cell_type": "code",
   "execution_count": null,
   "id": "5fc37205",
   "metadata": {},
   "outputs": [],
   "source": [
    "theta = dataset.variables_non_linear(25, 40, 190)\n",
    "bins = theta[(theta > 30) & (theta < 370)][::2]"
   ]
  },
  {
   "cell_type": "code",
   "execution_count": null,
   "id": "0df5957a",
   "metadata": {},
   "outputs": [],
   "source": [
    "init = lambda x: 25 * 2.0 ** (x / 40)\n",
    "end = lambda y:  25 * 2.0 ** ((128+y-1) / 40)\n",
    "init(11), end(11)"
   ]
  },
  {
   "cell_type": "code",
   "execution_count": null,
   "id": "c5e11618",
   "metadata": {},
   "outputs": [],
   "source": [
    "# test = dist_gtzan[(dist_gtzan > 90) & (dist_gtzan < 240)]\n",
    "\n",
    "# theta[(theta > 30)]"
   ]
  },
  {
   "cell_type": "code",
   "execution_count": null,
   "id": "2a01ab2a",
   "metadata": {},
   "outputs": [],
   "source": [
    "colors = plt.rcParams[\"axes.prop_cycle\"]()"
   ]
  },
  {
   "cell_type": "code",
   "execution_count": null,
   "id": "fd3ddc5d",
   "metadata": {},
   "outputs": [],
   "source": [
    "cmap = matplotlib.cm.get_cmap('tab10')"
   ]
  },
  {
   "cell_type": "code",
   "execution_count": null,
   "id": "8b795188",
   "metadata": {},
   "outputs": [],
   "source": [
    "cmap"
   ]
  },
  {
   "cell_type": "code",
   "execution_count": null,
   "id": "09044c97",
   "metadata": {},
   "outputs": [],
   "source": [
    "fig, ax = plt.subplots(2,1, figsize=(15,8))\n",
    "\n",
    "kwargs = {\n",
    "    \"alpha\": 0.7,\n",
    "    \"histtype\": \"stepfilled\"\n",
    "}\n",
    "\n",
    "ax[0].hist(dist_low, bins=50, label=\"lognorm @ 70\", edgecolor=\"black\", color=cmap.colors[0], **kwargs)\n",
    "ax[0].hist(dist_medium, bins=50, label=\"lognorm @ 120\", edgecolor=\"black\",color=cmap.colors[2], **kwargs)\n",
    "ax[0].hist(dist_high, bins=50, label=\"lognorm @ 170\", edgecolor=\"black\",color=cmap.colors[4],**kwargs)\n",
    "ax[0].hist(dist_log_uniform, bins=50, label=\"log uniform\", edgecolor=\"black\", color=cmap.colors[3],**kwargs)\n",
    "ax[0].grid(True, axis=\"x\", alpha=0.7)\n",
    "ax[0].set_xticks(np.arange(30, 340, 20))\n",
    "ax[0].title.set_text(\"Linear axis\")\n",
    "ax[0].title.set_fontsize(20)\n",
    "ax[0].set_xlim(20, 340)\n",
    "# ax[0].legend(loc=\"upper right\")\n",
    "plt.setp(ax[0], xticklabels=[])\n",
    "\n",
    "# ax[1].hist(dist_gtzan, bins=50, label=\"GTZAN\", edgecolor=\"black\", color=cmap.colors[8],**kwargs)\n",
    "# ax[1].set_xticks(np.arange(30, 340, 20))\n",
    "# ax[1].grid(True, axis=\"x\", alpha=0.7)\n",
    "# ax[1].set_xlim(20, 340)\n",
    "\n",
    "# ax[1].title.set_text(\"Linear axis\")\n",
    "\n",
    "ax[1].hist(dist_low, bins=bins, label=\"lognorm @ 70\", edgecolor=\"black\", color=cmap.colors[0],**kwargs)\n",
    "ax[1].hist(dist_medium, bins=bins, label=\"lognorm @ 120\", edgecolor=\"black\",color=cmap.colors[2], **kwargs)\n",
    "ax[1].hist(dist_high, bins=bins, label=\"lognorm @ 170\", edgecolor=\"black\",color=cmap.colors[4], **kwargs)\n",
    "ax[1].hist(dist_log_uniform, bins=bins, label=\"log uniform\", edgecolor=\"black\", color=cmap.colors[3],**kwargs)\n",
    "# ax[2].hist(dist_gtzan, bins=bins, label=\"GTZAN\", edgecolor=\"black\", color=cmap.colors[8], **kwargs)\n",
    "ax[1].title.set_text(\"Logarithmic axis\")\n",
    "ax[1].title.set_fontsize(20)\n",
    "ax[1].grid(True, axis=\"x\", alpha=0.7)\n",
    "plt.xscale('log')\n",
    "\n",
    "ax = plt.gca()\n",
    "handles, labels = ax.get_legend_handles_labels()\n",
    "fig.legend(handles, labels, loc=\"upper right\", bbox_to_anchor=(0.4955, 0.465, 0.5, 0.5), framealpha=1)\n",
    "ax.set_xticks([], [])\n",
    "ax.set_xticks(np.round(bins[::4]))\n",
    "ax.xaxis.set_major_formatter(ticker.ScalarFormatter())\n",
    "ax.set_xlabel(\"BPM\")\n",
    "ax.set_xlim(28, 360)\n",
    "\n",
    "\n",
    "# plt.xscale(\"log\")\n",
    "plt.set_cmap(\"Accent\")\n",
    "plt.tight_layout()\n",
    "plt.savefig(\"distributions.svg\", dpi='figure', format=\"svg\", metadata=None,\n",
    "        bbox_inches=None, pad_inches=0.1,\n",
    "        facecolor='auto', edgecolor='auto',\n",
    "        backend=None\n",
    ")"
   ]
  },
  {
   "cell_type": "code",
   "execution_count": null,
   "id": "e86d5533",
   "metadata": {},
   "outputs": [],
   "source": [
    "linear_bins = np.arange(20, 360, 10)\n",
    "ballroom, b_tracks, b_tempi = dataset.ballroom_data()\n",
    "giant_steps, gs_tracks, gs_tempi = dataset.giant_steps_data()"
   ]
  },
  {
   "cell_type": "code",
   "execution_count": null,
   "id": "6cda21c2",
   "metadata": {},
   "outputs": [],
   "source": [
    "fig, ax = plt.subplots(1,3, figsize=(15,8))\n",
    "\n",
    "ax[0].hist(dist_gtzan, linear_bins, label=\"gtzan\", color=\"red\")\n",
    "ax[0].hist(dist_low, linear_bins, label=\"lognorm @ 70\", color=\"orange\", alpha=0.6)\n",
    "ax[0].title.set_text(\"GTZAN (1000 tracks)\")\n",
    "ax[0].legend()\n",
    "\n",
    "ax[1].hist(b_tempi, linear_bins, label=\"ballroom\", color=\"blue\")\n",
    "ax[1].hist(dist_low, linear_bins, label=\"lognorm @ 70\", color=\"orange\", alpha=0.6)\n",
    "ax[1].title.set_text(\"Ballroom (698 tracks)\")\n",
    "ax[1].legend()\n",
    "\n",
    "ax[2].hist(gs_tempi, linear_bins, label=\"ballroom\", color=\"green\")\n",
    "ax[2].hist(dist_low, linear_bins, label=\"lognorm @ 70\", color=\"orange\", alpha=0.6)\n",
    "ax[2].title.set_text(\"Giant Steps (659 tracks)\")\n",
    "ax[2].legend()\n",
    "# plt.tight_layout()"
   ]
  },
  {
   "cell_type": "code",
   "execution_count": null,
   "id": "455caee8",
   "metadata": {},
   "outputs": [],
   "source": [
    "combined_hist = []\n",
    "\n",
    "for i in dist_gtzan:\n",
    "    combined_hist.append(i)\n",
    "    \n",
    "for i in b_tempi:\n",
    "    combined_hist.append(i)\n",
    "    \n",
    "for i in gs_tempi:\n",
    "    combined_hist.append(i)"
   ]
  },
  {
   "cell_type": "code",
   "execution_count": null,
   "id": "f603eb32",
   "metadata": {},
   "outputs": [],
   "source": [
    "plt.hist(combined_hist, linear_bins, label=\"combined_datasets\")\n",
    "plt.hist(dist_low, linear_bins, alpha=0.6, label=\"lognormal @ 70\")\n",
    "plt.title(\"Combined datasets\")\n",
    "plt.legend()"
   ]
  }
 ],
 "metadata": {
  "kernelspec": {
   "display_name": "Python 3 (ipykernel)",
   "language": "python",
   "name": "python3"
  },
  "language_info": {
   "codemirror_mode": {
    "name": "ipython",
    "version": 3
   },
   "file_extension": ".py",
   "mimetype": "text/x-python",
   "name": "python",
   "nbconvert_exporter": "python",
   "pygments_lexer": "ipython3",
   "version": "3.10.6"
  }
 },
 "nbformat": 4,
 "nbformat_minor": 5
}
