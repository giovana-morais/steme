{
 "cells": [
  {
   "cell_type": "code",
   "execution_count": null,
   "id": "a271e0d1",
   "metadata": {},
   "outputs": [],
   "source": [
    "from steme import dataset "
   ]
  },
  {
   "cell_type": "markdown",
   "id": "ebf92d59",
   "metadata": {},
   "source": [
    "# Discussion on tempogram ranges\n",
    "\n",
    "Tempograms are a time-tempo representation of an audio clip, that is we can see the most salient BPMs of a song in a given time. When building a tempogram, we usually have a linear axis, with a resolution of 1 BPM, but for this work we decided to change the axis of the representation and we chose a nonlinear axis that follows the formula `bpms = t0 * frequencies*(k/Q)`"
   ]
  },
  {
   "cell_type": "code",
   "execution_count": null,
   "id": "1085efc1",
   "metadata": {},
   "outputs": [],
   "source": [
    "theta1 = dataset.variables_non_linear(tmin=30, bins_per_octave=40, n_bins=190)\n",
    "\n",
    "print(\"$k_min \\in U(0,8)$\")\n",
    "print(theta1[0:128][0], theta1[0:128][-1])\n",
    "print(theta1[8:128][8], theta1[8:128+8][-1])\n",
    "\n",
    "print(\"\\n$k_min \\in U(11,18)$\")\n",
    "print(theta1[11:128+11][0], theta1[11:128+11][-1])\n",
    "print(theta1[18:128+18][0], theta1[18:128+18][-1])"
   ]
  },
  {
   "cell_type": "code",
   "execution_count": null,
   "id": "a59ecc54",
   "metadata": {},
   "outputs": [],
   "source": [
    "theta2 = dataset.variables_non_linear(tmin=25, bins_per_octave=40, n_bins=190)\n",
    "\n",
    "print(\"$k_min \\in U(0,8)$\")\n",
    "print(theta2[0:128][0], theta2[0:128][-1])\n",
    "print(theta2[8:128][0], theta2[8:128+8][-1])\n",
    "\n",
    "print(\"\\n$k_min \\in U(11,18)$\")\n",
    "print(theta2[11:128+11][0], theta2[11:128+11][-1])\n",
    "print(theta2[18:128+18][0], theta2[18:128+18][-1])"
   ]
  },
  {
   "cell_type": "code",
   "execution_count": null,
   "id": "c0c750ce",
   "metadata": {},
   "outputs": [],
   "source": [
    "len(theta1)"
   ]
  },
  {
   "cell_type": "code",
   "execution_count": null,
   "id": "93b2bf76",
   "metadata": {},
   "outputs": [],
   "source": [
    "len(theta2)"
   ]
  },
  {
   "cell_type": "code",
   "execution_count": null,
   "id": "f85bed39",
   "metadata": {},
   "outputs": [],
   "source": [
    "theta1"
   ]
  },
  {
   "cell_type": "code",
   "execution_count": null,
   "id": "868453bf",
   "metadata": {},
   "outputs": [],
   "source": [
    "theta2[0], theta2[-1]"
   ]
  },
  {
   "cell_type": "code",
   "execution_count": null,
   "id": "a78ac02a",
   "metadata": {},
   "outputs": [],
   "source": []
  }
 ],
 "metadata": {
  "kernelspec": {
   "display_name": "Python 3 (ipykernel)",
   "language": "python",
   "name": "python3"
  },
  "language_info": {
   "codemirror_mode": {
    "name": "ipython",
    "version": 3
   },
   "file_extension": ".py",
   "mimetype": "text/x-python",
   "name": "python",
   "nbconvert_exporter": "python",
   "pygments_lexer": "ipython3",
   "version": "3.10.6"
  }
 },
 "nbformat": 4,
 "nbformat_minor": 5
}
