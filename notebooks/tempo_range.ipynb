{
 "cells": [
  {
   "cell_type": "code",
   "execution_count": 16,
   "id": "a271e0d1",
   "metadata": {},
   "outputs": [],
   "source": [
    "from steme import dataset "
   ]
  },
  {
   "cell_type": "markdown",
   "id": "ebf92d59",
   "metadata": {},
   "source": [
    "# Discussion on tempogram ranges\n",
    "\n",
    "Tempograms are a time-tempo representation of an audio clip, that is we can see the most salient BPMs of a song in a given time. When building a tempogram, we usually have a linear axis, with a resolution of 1 BPM, but for this work we decided to change the axis of the representation and we chose a nonlinear axis that follows the formula `bpms = t0 * frequencies*(k/Q)`"
   ]
  },
  {
   "cell_type": "code",
   "execution_count": 17,
   "id": "1085efc1",
   "metadata": {},
   "outputs": [
    {
     "name": "stdout",
     "output_type": "stream",
     "text": [
      "$k_min \\in U(0,8)$\n",
      "30.0 270.9514571534715\n",
      "39.585237323186824 311.24149311624234\n",
      "\n",
      "$k_min \\in U(11,18)$\n",
      "36.29982267657878 327.84966162105496\n",
      "40.98120770263186 370.13059809790576\n"
     ]
    }
   ],
   "source": [
    "theta1 = dataset.variables_non_linear(tmin=30, bins_per_octave=40, n_bins=190)\n",
    "\n",
    "print(\"$k_min \\in U(0,8)$\")\n",
    "print(theta1[0:128][0], theta1[0:128][-1])\n",
    "print(theta1[8:128][8], theta1[8:128+8][-1])\n",
    "\n",
    "print(\"\\n$k_min \\in U(11,18)$\")\n",
    "print(theta1[11:128+11][0], theta1[11:128+11][-1])\n",
    "print(theta1[18:128+18][0], theta1[18:128+18][-1])"
   ]
  },
  {
   "cell_type": "code",
   "execution_count": 34,
   "id": "a59ecc54",
   "metadata": {},
   "outputs": [
    {
     "name": "stdout",
     "output_type": "stream",
     "text": [
      "$k_min \\in U(0,8)$\n",
      "25.0 225.79288096122622\n",
      "28.717458874925878 259.3679109302019\n",
      "\n",
      "$k_min \\in U(11,18)$\n",
      "30.249852230482315 273.20805135087915\n",
      "34.151006418859886 308.44216508158814\n"
     ]
    }
   ],
   "source": [
    "theta2 = dataset.variables_non_linear(tmin=25, bins_per_octave=40, n_bins=190)\n",
    "\n",
    "print(\"$k_min \\in U(0,8)$\")\n",
    "print(theta2[0:128][0], theta2[0:128][-1])\n",
    "print(theta2[8:128][0], theta2[8:128+8][-1])\n",
    "\n",
    "print(\"\\n$k_min \\in U(11,18)$\")\n",
    "print(theta2[11:128+11][0], theta2[11:128+11][-1])\n",
    "print(theta2[18:128+18][0], theta2[18:128+18][-1])"
   ]
  },
  {
   "cell_type": "code",
   "execution_count": 27,
   "id": "c0c750ce",
   "metadata": {},
   "outputs": [
    {
     "data": {
      "text/plain": [
       "190"
      ]
     },
     "execution_count": 27,
     "metadata": {},
     "output_type": "execute_result"
    }
   ],
   "source": [
    "len(theta1)"
   ]
  },
  {
   "cell_type": "code",
   "execution_count": 28,
   "id": "93b2bf76",
   "metadata": {},
   "outputs": [
    {
     "data": {
      "text/plain": [
       "190"
      ]
     },
     "execution_count": 28,
     "metadata": {},
     "output_type": "execute_result"
    }
   ],
   "source": [
    "len(theta2)"
   ]
  },
  {
   "cell_type": "code",
   "execution_count": 29,
   "id": "f85bed39",
   "metadata": {},
   "outputs": [
    {
     "data": {
      "text/plain": [
       "array([ 30.        ,  30.52439076,  31.05794772,  31.60083108,\n",
       "        32.15320388,  32.71523198,  33.28708416,  33.86893214,\n",
       "        34.46095065,  35.06331746,  35.67621345,  36.29982268,\n",
       "        36.9343324 ,  37.57993316,  38.23681882,  38.90518664,\n",
       "        39.58523732,  40.27717508,  40.9812077 ,  41.6975466 ,\n",
       "        42.42640687,  43.1680074 ,  43.92257088,  44.69032389,\n",
       "        45.471497  ,  46.26632476,  47.07504587,  47.89790318,\n",
       "        48.73514378,  49.58701909,  50.45378492,  51.33570154,\n",
       "        52.2330338 ,  53.14605115,  54.07502776,  55.02024259,\n",
       "        55.98197949,  56.96052726,  57.95617974,  58.96923591,\n",
       "        60.        ,  61.04878153,  62.11589543,  63.20166216,\n",
       "        64.30640775,  65.43046396,  66.57416832,  67.73786429,\n",
       "        68.9219013 ,  70.12663491,  71.3524269 ,  72.59964535,\n",
       "        73.8686648 ,  75.15986632,  76.47363764,  77.81037328,\n",
       "        79.17047465,  80.55435017,  81.96241541,  83.39509319,\n",
       "        84.85281374,  86.3360148 ,  87.84514176,  89.38064779,\n",
       "        90.94299399,  92.53264952,  94.15009175,  95.79580636,\n",
       "        97.47028756,  99.17403818, 100.90756983, 102.67140308,\n",
       "       104.4660676 , 106.29210229, 108.15005551, 110.04048518,\n",
       "       111.96395898, 113.92105451, 115.91235947, 117.93847183,\n",
       "       120.        , 122.09756305, 124.23179086, 126.40332431,\n",
       "       128.6128155 , 130.86092792, 133.14833665, 135.47572858,\n",
       "       137.8438026 , 140.25326983, 142.7048538 , 145.19929071,\n",
       "       147.7373296 , 150.31973263, 152.94727528, 155.62074656,\n",
       "       158.34094929, 161.10870033, 163.92483081, 166.79018638,\n",
       "       169.70562748, 172.6720296 , 175.69028351, 178.76129557,\n",
       "       181.88598798, 185.06529905, 188.3001835 , 191.59161273,\n",
       "       194.94057513, 198.34807636, 201.81513966, 205.34280616,\n",
       "       208.93213519, 212.58420458, 216.30011103, 220.08097037,\n",
       "       223.92791797, 227.84210903, 231.82471894, 235.87694365,\n",
       "       240.        , 244.1951261 , 248.46358172, 252.80664863,\n",
       "       257.22563101, 261.72185584, 266.2966733 , 270.95145715,\n",
       "       275.6876052 , 280.50653965, 285.4097076 , 290.39858141,\n",
       "       295.4746592 , 300.63946527, 305.89455056, 311.24149312,\n",
       "       316.68189859, 322.21740067, 327.84966162, 333.58037276,\n",
       "       339.41125497, 345.3440592 , 351.38056703, 357.52259115,\n",
       "       363.77197596, 370.1305981 , 376.60036699, 383.18322545,\n",
       "       389.88115025, 396.69615271, 403.63027932, 410.68561233,\n",
       "       417.86427038, 425.16840917, 432.60022205, 440.16194074,\n",
       "       447.85583594, 455.68421806, 463.64943788, 471.7538873 ,\n",
       "       480.        , 488.39025221, 496.92716344, 505.61329726,\n",
       "       514.45126202, 523.44371168, 532.59334659, 541.90291431,\n",
       "       551.3752104 , 561.01307931, 570.8194152 , 580.79716283,\n",
       "       590.94931841, 601.27893054, 611.78910111, 622.48298623,\n",
       "       633.36379717, 644.43480133, 655.69932324, 667.16074552,\n",
       "       678.82250994, 690.68811841, 702.76113405, 715.0451823 ,\n",
       "       727.54395192, 740.2611962 , 753.20073398, 766.3664509 ,\n",
       "       779.7623005 , 793.39230543])"
      ]
     },
     "execution_count": 29,
     "metadata": {},
     "output_type": "execute_result"
    }
   ],
   "source": [
    "theta1"
   ]
  },
  {
   "cell_type": "code",
   "execution_count": 31,
   "id": "868453bf",
   "metadata": {},
   "outputs": [
    {
     "data": {
      "text/plain": [
       "(25.0, 661.1602545233692)"
      ]
     },
     "execution_count": 31,
     "metadata": {},
     "output_type": "execute_result"
    }
   ],
   "source": [
    "theta2[0], theta2[-1]"
   ]
  },
  {
   "cell_type": "code",
   "execution_count": 40,
   "id": "c357532f",
   "metadata": {},
   "outputs": [
    {
     "data": {
      "text/plain": [
       "1.3677434320016148e+27"
      ]
     },
     "execution_count": 40,
     "metadata": {},
     "output_type": "execute_result"
    }
   ],
   "source": [
    "t0 = 25\n",
    "k = 18\n",
    "Q = 190\n",
    "\n",
    "t0 * (2.0 ** ((k*Q)/40))"
   ]
  },
  {
   "cell_type": "code",
   "execution_count": null,
   "id": "a78ac02a",
   "metadata": {},
   "outputs": [],
   "source": []
  }
 ],
 "metadata": {
  "kernelspec": {
   "display_name": "Python 3 (ipykernel)",
   "language": "python",
   "name": "python3"
  },
  "language_info": {
   "codemirror_mode": {
    "name": "ipython",
    "version": 3
   },
   "file_extension": ".py",
   "mimetype": "text/x-python",
   "name": "python",
   "nbconvert_exporter": "python",
   "pygments_lexer": "ipython3",
   "version": "3.7.16"
  }
 },
 "nbformat": 4,
 "nbformat_minor": 5
}
